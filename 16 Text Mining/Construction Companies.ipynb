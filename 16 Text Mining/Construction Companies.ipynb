{
 "cells": [
  {
   "cell_type": "code",
   "execution_count": 1,
   "id": "7373cdff",
   "metadata": {},
   "outputs": [],
   "source": [
    "import requests\n",
    "import bs4\n",
    "from bs4 import BeautifulSoup\n",
    "import pandas as  pd\n",
    "\n",
    "headers={\n",
    "    'User-Agent':\"Mozilla/5.0 (Windows NT 10.0; Win64; x64) AppleWebKit/537.36 (KHTML, like Gecko) Chrome/102.0.0.0 Safari/537.36\"\n",
    "}\n",
    "\n",
    "def get_company_name(soup_obj: BeautifulSoup) -> str:\n",
    "    try:\n",
    "        company_name = soup_obj.find('span', {\"class\": \"titleSpan\"}).get_text()\n",
    "        return company_name\n",
    "    except Exception as e:\n",
    "        return 'no_name'\n",
    "        print(e)       \n",
    "def get_company_country(soup_obj: BeautifulSoup) -> str:\n",
    "    try:\n",
    "        company_country = soup_obj.find('span',{\"class\":\"placeText\"}).get_text()\n",
    "        return company_country\n",
    "    except Exception as e:\n",
    "        return 'no country'\n",
    "        print(e)        \n",
    "def get_info(soup_obj: BeautifulSoup) -> dict:\n",
    "    return {\n",
    "        'Names of Company':get_company_name(soup_obj),\n",
    "        'Name of City-Country':get_company_country(soup_obj)\n",
    "    }\n",
    "def cat_company(list_url):\n",
    "    company = []\n",
    "\n",
    "    for u in list_url:\n",
    "        resp = requests.get(u, headers=headers)\n",
    "        soup = BeautifulSoup(resp.text, \"html.parser\")\n",
    "        names = soup.find_all(\"div\", {\"class\": \"product-list-data\"})\n",
    "        records = [get_info(n) for n in names]\n",
    "        company.extend(records)\n",
    "    company_df = pd.DataFrame(company)\n",
    "    print(company_df.shape)\n",
    "    company_df.to_csv('Construction Companies.csv')\n"
   ]
  },
  {
   "cell_type": "markdown",
   "id": "3052d741",
   "metadata": {},
   "source": [
    "# Construction Companies"
   ]
  },
  {
   "cell_type": "code",
   "execution_count": 2,
   "id": "1dadf858",
   "metadata": {},
   "outputs": [],
   "source": [
    "list_url1 = ['https://in.kompass.com/a/building-industry/71/page-'+str(i) for i in range(40)]\n",
    "list_url2 = ['https://in.kompass.com/a/civil-and-marine-engineering-contractors/70/page-'+str(i) for i in range(40)]\n",
    "list_url3 = ['https://in.kompass.com/a/civil-engineering-and-building-machinery-and-equipment/61/page-'+str(i) for i in range(40)]\n",
    "list_url4 = ['https://in.kompass.com/a/furniture-and-linen/15/page-'+str(i) for i in range(40)]\n",
    "list_url5 = ['https://in.kompass.com/a/heating-ventilation-air-conditioning-hvac-and-refrigeration/33/page-'+str(i) for i in range(40)]\n",
    "list_url6 = ['https://in.kompass.com/a/metal-constructions-for-the-building-industry/26/page-'+str(i) for i in range(40)]\n",
    "list_url7 = ['https://in.kompass.com/a/security-equipment/29/page-'+str(i) for i in range(40)]\n",
    "list_url8 = ['https://in.kompass.com/a/timber-wooden-products-machinery-and-equipment-for-the-woodworking/14/page-'+str(i) for i in range(40)]\n",
    "list_url9 = ['https://in.kompass.com/a/bolts-metal-non-turned/28370/page-'+str(i) for i in range(40)]\n",
    "list_url10 = ['https://in.kompass.com/a/bolts-turned-metal/28460/page-'+str(i) for i in range(40)]"
   ]
  },
  {
   "cell_type": "code",
   "execution_count": 3,
   "id": "4f0bc996",
   "metadata": {},
   "outputs": [],
   "source": [
    "list_url11 = ['https://in.kompass.com/a/cables-ropes-bands-and-tapes-metal/28070/page-'+str(i) for i in range(40)]\n",
    "list_url12 = ['https://in.kompass.com/a/cables-and-ropes-metal-by-use/28080/page-'+str(i) for i in range(40)]\n",
    "list_url13 = ['https://in.kompass.com/a/chisels-taps-dies-threaders-manual-reamers-drills-and-similar/28640/page-'+str(i) for i in range(40)]\n",
    "list_url14 = ['https://in.kompass.com/a/cutting-cutting-off-and-sawing-tools/28690/page-'+str(i) for i in range(40)]\n",
    "list_url15 = ['https://in.kompass.com/a/fasteners-and-fixing-devices-metal-industrial/28490/page-'+str(i) for i in range(40)]\n",
    "list_url16 = ['https://in.kompass.com/a/hinges-metal/28500/page-'+str(i) for i in range(40)]\n",
    "list_url17 = ['https://in.kompass.com/a/household-articles-metal/28960/page-'+str(i) for i in range(40)]\n",
    "list_url18 = ['https://in.kompass.com/a/ironmongery-and-hardware-for-furniture/28730/page-'+str(i) for i in range(40)]\n",
    "list_url19 = ['https://in.kompass.com/a/kitchen-articles-and-tableware-metal/28810/page-'+str(i) for i in range(40)]\n",
    "list_url20 = ['https://in.kompass.com/a/metal-and-steel-wires-by-use/28030/page-'+str(i) for i in range(40)]\n",
    "list_url31 = ['https://in.kompass.com/a/metal-components-and-fittings-for-gates-doors-windows-skylights/28750/page-'+str(i) for i in range(40)]\n",
    "list_url32 = ['https://in.kompass.com/a/metal-products-miscellaneous/28770/page-'+str(i) for i in range(40)]\n",
    "list_url33 = ['https://in.kompass.com/a/non-ferrous-metal-wires/28040/page-'+str(i) for i in range(40)]\n",
    "list_url34 = ['https://in.kompass.com/a/nuts-metal-non-turned/28380/page-'+str(i) for i in range(40)]\n",
    "list_url35 = ['https://in.kompass.com/a/nuts-turned-metal/28450/page-'+str(i) for i in range(40)]\n",
    "list_url36 = ['https://in.kompass.com/a/pliers-clamps-and-similar-tools/28610/page-'+str(i) for i in range(40)]\n",
    "list_url37 = ['https://in.kompass.com/a/power-line-and-cable-maintenance-tools-and-equipment-metal/28710/page-'+str(i) for i in range(40)]\n",
    "list_url38 = ['https://in.kompass.com/a/screws-non-turned-metal/28360/page-'+str(i) for i in range(40)]\n",
    "list_url39 = ['https://in.kompass.com/a/screws-turned-metal/28440/page-'+str(i) for i in range(40)]\n",
    "list_url40 = ['https://in.kompass.com/a/metal-pipework-valves-and-containers/27/page-'+str(i) for i in range(40)]"
   ]
  },
  {
   "cell_type": "code",
   "execution_count": 4,
   "id": "594c832e",
   "metadata": {},
   "outputs": [],
   "source": [
    "list_url=list_url1+list_url2+list_url3+list_url4+list_url5+list_url6+list_url7+list_url8+list_url9+list_url10+list_url11+list_url12+list_url13+list_url14+list_url15+list_url16+list_url17+list_url18+list_url19+list_url20+list_url31+list_url32+list_url33+list_url34+list_url35+list_url36+list_url37+list_url38+list_url39+list_url40"
   ]
  },
  {
   "cell_type": "code",
   "execution_count": 5,
   "id": "90f2a7ee",
   "metadata": {},
   "outputs": [
    {
     "name": "stdout",
     "output_type": "stream",
     "text": [
      "(0, 0)\n"
     ]
    }
   ],
   "source": [
    "cat_company(list_url)"
   ]
  },
  {
   "cell_type": "code",
   "execution_count": null,
   "id": "1192b207",
   "metadata": {},
   "outputs": [],
   "source": []
  },
  {
   "cell_type": "code",
   "execution_count": null,
   "id": "c408d016",
   "metadata": {},
   "outputs": [],
   "source": []
  },
  {
   "cell_type": "code",
   "execution_count": null,
   "id": "0e222555",
   "metadata": {},
   "outputs": [],
   "source": []
  },
  {
   "cell_type": "code",
   "execution_count": null,
   "id": "bb324fb3",
   "metadata": {},
   "outputs": [],
   "source": []
  },
  {
   "cell_type": "code",
   "execution_count": null,
   "id": "45065127",
   "metadata": {},
   "outputs": [],
   "source": []
  },
  {
   "cell_type": "code",
   "execution_count": null,
   "id": "a9469bee",
   "metadata": {},
   "outputs": [],
   "source": []
  },
  {
   "cell_type": "code",
   "execution_count": null,
   "id": "89de64ff",
   "metadata": {},
   "outputs": [],
   "source": []
  },
  {
   "cell_type": "code",
   "execution_count": null,
   "id": "f59a3875",
   "metadata": {},
   "outputs": [],
   "source": []
  },
  {
   "cell_type": "code",
   "execution_count": null,
   "id": "5e5380d6",
   "metadata": {},
   "outputs": [],
   "source": []
  },
  {
   "cell_type": "code",
   "execution_count": null,
   "id": "4eea964f",
   "metadata": {},
   "outputs": [],
   "source": []
  },
  {
   "cell_type": "code",
   "execution_count": null,
   "id": "72b6dd29",
   "metadata": {},
   "outputs": [],
   "source": []
  },
  {
   "cell_type": "code",
   "execution_count": null,
   "id": "5f2af439",
   "metadata": {},
   "outputs": [],
   "source": []
  },
  {
   "cell_type": "code",
   "execution_count": null,
   "id": "86b50de0",
   "metadata": {},
   "outputs": [],
   "source": []
  },
  {
   "cell_type": "markdown",
   "id": "8a97d6dc",
   "metadata": {},
   "source": [
    "list_url1 = ['page-'+str(i) for i in range(40)]\n",
    "list_url2 = ['page-'+str(i) for i in range(40)]\n",
    "list_url3 = ['page-'+str(i) for i in range(40)]\n",
    "list_url4 = ['page-'+str(i) for i in range(40)]\n",
    "list_url5 = ['page-'+str(i) for i in range(40)]\n",
    "list_url6 = ['page-'+str(i) for i in range(40)]\n",
    "list_url7 = ['page-'+str(i) for i in range(40)]\n",
    "list_url8 = ['page-'+str(i) for i in range(40)]\n",
    "list_url9 = ['page-'+str(i) for i in range(40)]\n",
    "list_url10 = ['page-'+str(i) for i in range(40)]\n",
    "list_url11 = ['page-'+str(i) for i in range(40)]\n",
    "list_url12 = ['page-'+str(i) for i in range(40)]\n",
    "list_url13 = ['page-'+str(i) for i in range(40)]\n",
    "list_url14 = ['page-'+str(i) for i in range(40)]\n",
    "list_url15 = ['page-'+str(i) for i in range(40)]\n",
    "list_url16 = ['page-'+str(i) for i in range(40)]\n",
    "list_url17 = ['page-'+str(i) for i in range(40)]\n",
    "list_url18 = ['page-'+str(i) for i in range(40)]\n",
    "list_url19 = ['page-'+str(i) for i in range(40)]\n",
    "list_url20 = ['page-'+str(i) for i in range(40)]"
   ]
  },
  {
   "cell_type": "code",
   "execution_count": null,
   "id": "16ed806e",
   "metadata": {},
   "outputs": [],
   "source": []
  }
 ],
 "metadata": {
  "kernelspec": {
   "display_name": "Python 3 (ipykernel)",
   "language": "python",
   "name": "python3"
  },
  "language_info": {
   "codemirror_mode": {
    "name": "ipython",
    "version": 3
   },
   "file_extension": ".py",
   "mimetype": "text/x-python",
   "name": "python",
   "nbconvert_exporter": "python",
   "pygments_lexer": "ipython3",
   "version": "3.9.7"
  }
 },
 "nbformat": 4,
 "nbformat_minor": 5
}
