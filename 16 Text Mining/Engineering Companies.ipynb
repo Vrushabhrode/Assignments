{
 "cells": [
  {
   "cell_type": "code",
   "execution_count": 1,
   "id": "01c6426d",
   "metadata": {},
   "outputs": [],
   "source": [
    "import requests\n",
    "import bs4\n",
    "from bs4 import BeautifulSoup\n",
    "import pandas as  pd\n",
    "\n",
    "headers={\n",
    "    'User-Agent':\"Mozilla/5.0 (Windows NT 10.0; Win64; x64) AppleWebKit/537.36 (KHTML, like Gecko) Chrome/102.0.0.0 Safari/537.36\"\n",
    "}\n",
    "\n",
    "def get_company_name(soup_obj: BeautifulSoup) -> str:\n",
    "    try:\n",
    "        company_name = soup_obj.find('span', {\"class\": \"titleSpan\"}).get_text()\n",
    "        return company_name\n",
    "    except Exception as e:\n",
    "        return 'no_name'\n",
    "        print(e)       \n",
    "def get_company_country(soup_obj: BeautifulSoup) -> str:\n",
    "    try:\n",
    "        company_country = soup_obj.find('span',{\"class\":\"placeText\"}).get_text()\n",
    "        return company_country\n",
    "    except Exception as e:\n",
    "        return 'no country'\n",
    "        print(e)        \n",
    "def get_info(soup_obj: BeautifulSoup) -> dict:\n",
    "    return {\n",
    "        'Names of Company':get_company_name(soup_obj),\n",
    "        'Name of City-Country':get_company_country(soup_obj)\n",
    "    }\n",
    "def cat_company(list_url):\n",
    "    company = []\n",
    "\n",
    "    for u in list_url:\n",
    "        resp = requests.get(u, headers=headers)\n",
    "        soup = BeautifulSoup(resp.text, \"html.parser\")\n",
    "        names = soup.find_all(\"div\", {\"class\": \"product-list-data\"})\n",
    "        records = [get_info(n) for n in names]\n",
    "        company.extend(records)\n",
    "    company_df = pd.DataFrame(company)\n",
    "    print(company_df.shape)\n",
    "    company_df.to_csv('Engineering Companies.csv')\n",
    "\n"
   ]
  },
  {
   "cell_type": "markdown",
   "id": "3e633f78",
   "metadata": {},
   "source": [
    "# Engineering Companies"
   ]
  },
  {
   "cell_type": "code",
   "execution_count": 2,
   "id": "41c93ac5",
   "metadata": {},
   "outputs": [],
   "source": [
    "list_url1 = ['https://in.kompass.com/a/industrial-subcontractors/65/page-'+str(i) for i in range(40)]\n",
    "list_url2 = ['https://in.kompass.com/a/ball-bearings/32680/page-'+str(i) for i in range(40)]\n",
    "list_url3 = ['https://in.kompass.com/a/bearings-and-pillow-blocks-mechanical/32670/page-'+str(i) for i in range(40)]\n",
    "list_url4 = ['https://in.kompass.com/a/compressors/32420/page-'+str(i) for i in range(40)]\n",
    "list_url5 = ['https://in.kompass.com/a/cylinder-block-components-for-internal-combustion-engine/32210/page-'+str(i) for i in range(40)]\n",
    "list_url6 = ['https://in.kompass.com/a/electric-motors-over-1-kw/32390/page-'+str(i) for i in range(40)]\n",
    "list_url7 = ['https://in.kompass.com/a/electric-motors-up-to-1-kw/32400/page-'+str(i) for i in range(40)]\n",
    "list_url8 = ['https://in.kompass.com/a/gears/32860/page-'+str(i) for i in range(40)]\n",
    "list_url9 = ['https://in.kompass.com/a/hydraulic-cylinders/32610/page-'+str(i) for i in range(40)]\n",
    "list_url10 = ['https://in.kompass.com/a/hydraulic-equipment/32580/page-'+str(i) for i in range(40)]\n",
    "list_url11 = ['https://in.kompass.com/a/hydraulic-pumps/32300/page-'+str(i) for i in range(40)]\n",
    "list_url12 = ['https://in.kompass.com/a/industrial-gearboxes/32900/page-'+str(i) for i in range(40)]\n",
    "list_url13 = ['https://in.kompass.com/a/internal-combustion-engine-components-nes/32260/page-'+str(i) for i in range(40)]\n",
    "list_url14 = ['https://in.kompass.com/a/pumps-nes/32350/page-'+str(i) for i in range(40)]\n",
    "list_url15 = ['https://in.kompass.com/a/shaft-couplings-for-industrial-use/32790/page-'+str(i) for i in range(40)]\n",
    "list_url16 = ['https://in.kompass.com/a/vacuum-pumps/32310/page-'+str(i) for i in range(40)]\n",
    "list_url17 = ['https://in.kompass.com/a/machinery-and-equipment-for-metalworking/37/page-'+str(i) for i in range(40)]\n",
    "list_url18 = ['https://in.kompass.com/a/basic-metal-products/25/page-'+str(i) for i in range(40)]"
   ]
  },
  {
   "cell_type": "code",
   "execution_count": 3,
   "id": "de35c943",
   "metadata": {},
   "outputs": [],
   "source": [
    "list_url=list_url1+list_url2+list_url3+list_url4+list_url5+list_url6+list_url7+list_url8+list_url9+list_url10+list_url11+list_url12+list_url13+list_url14+list_url15+list_url16+list_url17+list_url18"
   ]
  },
  {
   "cell_type": "code",
   "execution_count": 4,
   "id": "317c8def",
   "metadata": {},
   "outputs": [
    {
     "name": "stdout",
     "output_type": "stream",
     "text": [
      "(0, 0)\n"
     ]
    }
   ],
   "source": [
    "cat_company(list_url)"
   ]
  }
 ],
 "metadata": {
  "kernelspec": {
   "display_name": "Python 3 (ipykernel)",
   "language": "python",
   "name": "python3"
  },
  "language_info": {
   "codemirror_mode": {
    "name": "ipython",
    "version": 3
   },
   "file_extension": ".py",
   "mimetype": "text/x-python",
   "name": "python",
   "nbconvert_exporter": "python",
   "pygments_lexer": "ipython3",
   "version": "3.9.7"
  }
 },
 "nbformat": 4,
 "nbformat_minor": 5
}
