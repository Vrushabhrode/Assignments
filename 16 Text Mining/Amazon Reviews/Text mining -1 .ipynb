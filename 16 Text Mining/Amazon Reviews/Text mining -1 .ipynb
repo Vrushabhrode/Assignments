{
 "cells": [
  {
   "cell_type": "markdown",
   "id": "49ecb867",
   "metadata": {},
   "source": [
    "## Web Scrapping"
   ]
  },
  {
   "cell_type": "code",
   "execution_count": 1,
   "id": "8ec77272",
   "metadata": {},
   "outputs": [],
   "source": [
    "import requests\n",
    "import bs4\n",
    "from bs4 import BeautifulSoup\n",
    "import pandas as pd"
   ]
  },
  {
   "cell_type": "code",
   "execution_count": 23,
   "id": "05c5c329",
   "metadata": {},
   "outputs": [],
   "source": [
    "list_url=[]\n",
    "page=1\n",
    "while page != 37:\n",
    "    url=f\"https://www.amazon.in/OnePlus-Nord-Charcoal-128GB-Storage/product-reviews/B09576CYNP/ref=cm_cr_arp_d_paging_btm_next_2?ie=UTF8&reviewerType=all_reviews&pageNumber={page}\"\n",
    "    list_url.append(url)\n",
    "    page=page+1\n",
    "    \n"
   ]
  },
  {
   "cell_type": "code",
   "execution_count": 24,
   "id": "218506af",
   "metadata": {},
   "outputs": [
    {
     "data": {
      "text/plain": [
       "['https://www.amazon.in/OnePlus-Nord-Charcoal-128GB-Storage/product-reviews/B09576CYNP/ref=cm_cr_arp_d_paging_btm_next_2?ie=UTF8&reviewerType=all_reviews&pageNumber=1',\n",
       " 'https://www.amazon.in/OnePlus-Nord-Charcoal-128GB-Storage/product-reviews/B09576CYNP/ref=cm_cr_arp_d_paging_btm_next_2?ie=UTF8&reviewerType=all_reviews&pageNumber=2',\n",
       " 'https://www.amazon.in/OnePlus-Nord-Charcoal-128GB-Storage/product-reviews/B09576CYNP/ref=cm_cr_arp_d_paging_btm_next_2?ie=UTF8&reviewerType=all_reviews&pageNumber=3',\n",
       " 'https://www.amazon.in/OnePlus-Nord-Charcoal-128GB-Storage/product-reviews/B09576CYNP/ref=cm_cr_arp_d_paging_btm_next_2?ie=UTF8&reviewerType=all_reviews&pageNumber=4',\n",
       " 'https://www.amazon.in/OnePlus-Nord-Charcoal-128GB-Storage/product-reviews/B09576CYNP/ref=cm_cr_arp_d_paging_btm_next_2?ie=UTF8&reviewerType=all_reviews&pageNumber=5',\n",
       " 'https://www.amazon.in/OnePlus-Nord-Charcoal-128GB-Storage/product-reviews/B09576CYNP/ref=cm_cr_arp_d_paging_btm_next_2?ie=UTF8&reviewerType=all_reviews&pageNumber=6',\n",
       " 'https://www.amazon.in/OnePlus-Nord-Charcoal-128GB-Storage/product-reviews/B09576CYNP/ref=cm_cr_arp_d_paging_btm_next_2?ie=UTF8&reviewerType=all_reviews&pageNumber=7',\n",
       " 'https://www.amazon.in/OnePlus-Nord-Charcoal-128GB-Storage/product-reviews/B09576CYNP/ref=cm_cr_arp_d_paging_btm_next_2?ie=UTF8&reviewerType=all_reviews&pageNumber=8',\n",
       " 'https://www.amazon.in/OnePlus-Nord-Charcoal-128GB-Storage/product-reviews/B09576CYNP/ref=cm_cr_arp_d_paging_btm_next_2?ie=UTF8&reviewerType=all_reviews&pageNumber=9',\n",
       " 'https://www.amazon.in/OnePlus-Nord-Charcoal-128GB-Storage/product-reviews/B09576CYNP/ref=cm_cr_arp_d_paging_btm_next_2?ie=UTF8&reviewerType=all_reviews&pageNumber=10',\n",
       " 'https://www.amazon.in/OnePlus-Nord-Charcoal-128GB-Storage/product-reviews/B09576CYNP/ref=cm_cr_arp_d_paging_btm_next_2?ie=UTF8&reviewerType=all_reviews&pageNumber=11',\n",
       " 'https://www.amazon.in/OnePlus-Nord-Charcoal-128GB-Storage/product-reviews/B09576CYNP/ref=cm_cr_arp_d_paging_btm_next_2?ie=UTF8&reviewerType=all_reviews&pageNumber=12',\n",
       " 'https://www.amazon.in/OnePlus-Nord-Charcoal-128GB-Storage/product-reviews/B09576CYNP/ref=cm_cr_arp_d_paging_btm_next_2?ie=UTF8&reviewerType=all_reviews&pageNumber=13',\n",
       " 'https://www.amazon.in/OnePlus-Nord-Charcoal-128GB-Storage/product-reviews/B09576CYNP/ref=cm_cr_arp_d_paging_btm_next_2?ie=UTF8&reviewerType=all_reviews&pageNumber=14',\n",
       " 'https://www.amazon.in/OnePlus-Nord-Charcoal-128GB-Storage/product-reviews/B09576CYNP/ref=cm_cr_arp_d_paging_btm_next_2?ie=UTF8&reviewerType=all_reviews&pageNumber=15',\n",
       " 'https://www.amazon.in/OnePlus-Nord-Charcoal-128GB-Storage/product-reviews/B09576CYNP/ref=cm_cr_arp_d_paging_btm_next_2?ie=UTF8&reviewerType=all_reviews&pageNumber=16',\n",
       " 'https://www.amazon.in/OnePlus-Nord-Charcoal-128GB-Storage/product-reviews/B09576CYNP/ref=cm_cr_arp_d_paging_btm_next_2?ie=UTF8&reviewerType=all_reviews&pageNumber=17',\n",
       " 'https://www.amazon.in/OnePlus-Nord-Charcoal-128GB-Storage/product-reviews/B09576CYNP/ref=cm_cr_arp_d_paging_btm_next_2?ie=UTF8&reviewerType=all_reviews&pageNumber=18',\n",
       " 'https://www.amazon.in/OnePlus-Nord-Charcoal-128GB-Storage/product-reviews/B09576CYNP/ref=cm_cr_arp_d_paging_btm_next_2?ie=UTF8&reviewerType=all_reviews&pageNumber=19',\n",
       " 'https://www.amazon.in/OnePlus-Nord-Charcoal-128GB-Storage/product-reviews/B09576CYNP/ref=cm_cr_arp_d_paging_btm_next_2?ie=UTF8&reviewerType=all_reviews&pageNumber=20',\n",
       " 'https://www.amazon.in/OnePlus-Nord-Charcoal-128GB-Storage/product-reviews/B09576CYNP/ref=cm_cr_arp_d_paging_btm_next_2?ie=UTF8&reviewerType=all_reviews&pageNumber=21',\n",
       " 'https://www.amazon.in/OnePlus-Nord-Charcoal-128GB-Storage/product-reviews/B09576CYNP/ref=cm_cr_arp_d_paging_btm_next_2?ie=UTF8&reviewerType=all_reviews&pageNumber=22',\n",
       " 'https://www.amazon.in/OnePlus-Nord-Charcoal-128GB-Storage/product-reviews/B09576CYNP/ref=cm_cr_arp_d_paging_btm_next_2?ie=UTF8&reviewerType=all_reviews&pageNumber=23',\n",
       " 'https://www.amazon.in/OnePlus-Nord-Charcoal-128GB-Storage/product-reviews/B09576CYNP/ref=cm_cr_arp_d_paging_btm_next_2?ie=UTF8&reviewerType=all_reviews&pageNumber=24',\n",
       " 'https://www.amazon.in/OnePlus-Nord-Charcoal-128GB-Storage/product-reviews/B09576CYNP/ref=cm_cr_arp_d_paging_btm_next_2?ie=UTF8&reviewerType=all_reviews&pageNumber=25',\n",
       " 'https://www.amazon.in/OnePlus-Nord-Charcoal-128GB-Storage/product-reviews/B09576CYNP/ref=cm_cr_arp_d_paging_btm_next_2?ie=UTF8&reviewerType=all_reviews&pageNumber=26',\n",
       " 'https://www.amazon.in/OnePlus-Nord-Charcoal-128GB-Storage/product-reviews/B09576CYNP/ref=cm_cr_arp_d_paging_btm_next_2?ie=UTF8&reviewerType=all_reviews&pageNumber=27',\n",
       " 'https://www.amazon.in/OnePlus-Nord-Charcoal-128GB-Storage/product-reviews/B09576CYNP/ref=cm_cr_arp_d_paging_btm_next_2?ie=UTF8&reviewerType=all_reviews&pageNumber=28',\n",
       " 'https://www.amazon.in/OnePlus-Nord-Charcoal-128GB-Storage/product-reviews/B09576CYNP/ref=cm_cr_arp_d_paging_btm_next_2?ie=UTF8&reviewerType=all_reviews&pageNumber=29',\n",
       " 'https://www.amazon.in/OnePlus-Nord-Charcoal-128GB-Storage/product-reviews/B09576CYNP/ref=cm_cr_arp_d_paging_btm_next_2?ie=UTF8&reviewerType=all_reviews&pageNumber=30',\n",
       " 'https://www.amazon.in/OnePlus-Nord-Charcoal-128GB-Storage/product-reviews/B09576CYNP/ref=cm_cr_arp_d_paging_btm_next_2?ie=UTF8&reviewerType=all_reviews&pageNumber=31',\n",
       " 'https://www.amazon.in/OnePlus-Nord-Charcoal-128GB-Storage/product-reviews/B09576CYNP/ref=cm_cr_arp_d_paging_btm_next_2?ie=UTF8&reviewerType=all_reviews&pageNumber=32',\n",
       " 'https://www.amazon.in/OnePlus-Nord-Charcoal-128GB-Storage/product-reviews/B09576CYNP/ref=cm_cr_arp_d_paging_btm_next_2?ie=UTF8&reviewerType=all_reviews&pageNumber=33',\n",
       " 'https://www.amazon.in/OnePlus-Nord-Charcoal-128GB-Storage/product-reviews/B09576CYNP/ref=cm_cr_arp_d_paging_btm_next_2?ie=UTF8&reviewerType=all_reviews&pageNumber=34',\n",
       " 'https://www.amazon.in/OnePlus-Nord-Charcoal-128GB-Storage/product-reviews/B09576CYNP/ref=cm_cr_arp_d_paging_btm_next_2?ie=UTF8&reviewerType=all_reviews&pageNumber=35',\n",
       " 'https://www.amazon.in/OnePlus-Nord-Charcoal-128GB-Storage/product-reviews/B09576CYNP/ref=cm_cr_arp_d_paging_btm_next_2?ie=UTF8&reviewerType=all_reviews&pageNumber=36']"
      ]
     },
     "execution_count": 24,
     "metadata": {},
     "output_type": "execute_result"
    }
   ],
   "source": [
    "list_url"
   ]
  },
  {
   "cell_type": "code",
   "execution_count": 25,
   "id": "ceab2f53",
   "metadata": {},
   "outputs": [],
   "source": [
    "headers = {\n",
    "    'authority': 'www.amazon.in',\n",
    "    'cache-control': 'max-age=0',\n",
    "    'rtt': '150',\n",
    "    'downlink': '2.7',\n",
    "    'ect': '4g',\n",
    "    'sec-ch-ua': '^\\\\^',\n",
    "    'sec-ch-ua-mobile': '?0',\n",
    "    'upgrade-insecure-requests': '1',\n",
    "    'user-agent': 'Mozilla/5.0 (Windows NT 10.0; Win64; x64) AppleWebKit/537.36 (KHTML, like Gecko) Chrome/90.0.4430.85 Safari/537.36 Edg/90.0.818.49',\n",
    "    'accept': 'text/html,application/xhtml+xml,application/xml;q=0.9,image/webp,image/apng,*/*;q=0.8,application/signed-exchange;v=b3;q=0.9',\n",
    "    'sec-fetch-site': 'same-origin',\n",
    "    'sec-fetch-mode': 'navigate',\n",
    "    'sec-fetch-user': '?1',\n",
    "    'sec-fetch-dest': 'document',\n",
    "    'accept-language': 'en-US,en;q=0.9',\n",
    "    'cookie': 'session-id=257-0157535-8208530; i18n-prefs=INR; lc-acbin=en_IN; ubid-acbin=258-4077088-4537425; visitCount=9; session-token=uN1KfT41mt0ZA0f1MJRFDMjcvWmUp1LrO++XaLMlL/WKBEiN0P8VFJozBC3RevfC9KwTWyNVtt+eVYiX7mvAz0JTnuuUAoU+C9L9dRnbyCU3YxcuwrhaLVtVQS2+tESf8gI42ATEI+uhjzyPybDhEUESDexZYxAE77JqkombdrFheg6wzGOyI7jjGLxow/Vb; session-id-time=2082758401l; csm-hit=tb:D4BTRHE86Y8WXGGH791C+s-D4BTRHE86Y8WXGGH791C^|1624974973758&t:1624974973758&adb:adblk_no',\n",
    "}"
   ]
  },
  {
   "cell_type": "code",
   "execution_count": 26,
   "id": "4e05778f",
   "metadata": {},
   "outputs": [
    {
     "data": {
      "text/plain": [
       "<Response [200]>"
      ]
     },
     "execution_count": 26,
     "metadata": {},
     "output_type": "execute_result"
    }
   ],
   "source": [
    "resp=requests.get(list_url[1],headers=headers)\n",
    "resp"
   ]
  },
  {
   "cell_type": "code",
   "execution_count": 27,
   "id": "f46eb9fe",
   "metadata": {},
   "outputs": [
    {
     "data": {
      "text/plain": [
       "<!DOCTYPE html>\n",
       "\n",
       "<!--[if lt IE 7]> <html lang=\"en-us\" class=\"a-no-js a-lt-ie9 a-lt-ie8 a-lt-ie7\"> <![endif]-->\n",
       "<!--[if IE 7]>    <html lang=\"en-us\" class=\"a-no-js a-lt-ie9 a-lt-ie8\"> <![endif]-->\n",
       "<!--[if IE 8]>    <html lang=\"en-us\" class=\"a-no-js a-lt-ie9\"> <![endif]-->\n",
       "<!--[if gt IE 8]><!-->\n",
       "<html class=\"a-no-js\" lang=\"en-us\"><!--<![endif]--><head>\n",
       "<meta content=\"text/html; charset=utf-8\" http-equiv=\"content-type\"/>\n",
       "<meta charset=\"utf-8\"/>\n",
       "<meta content=\"IE=edge,chrome=1\" http-equiv=\"X-UA-Compatible\"/>\n",
       "<title dir=\"ltr\">Amazon.in</title>\n",
       "<meta content=\"width=device-width\" name=\"viewport\"/>\n",
       "<link href=\"https://images-na.ssl-images-amazon.com/images/G/01/AUIClients/AmazonUI-3c913031596ca78a3768f4e934b1cc02ce238101.secure.min._V1_.css\" rel=\"stylesheet\"/>\n",
       "<script>\n",
       "\n",
       "if (true === true) {\n",
       "    var ue_t0 = (+ new Date()),\n",
       "        ue_csm = window,\n",
       "        ue = { t0: ue_t0, d: function() { return (+new Date() - ue_t0); } },\n",
       "        ue_furl = \"fls-eu.amazon.in\",\n",
       "        ue_mid = \"A21TJRUUN4KGV\",\n",
       "        ue_sid = (document.cookie.match(/session-id=([0-9-]+)/) || [])[1],\n",
       "        ue_sn = \"opfcaptcha.amazon.in\",\n",
       "        ue_id = 'A7GJYMY5ZQQDZ57YWSE5';\n",
       "}\n",
       "</script>\n",
       "</head>\n",
       "<body>\n",
       "<!--\n",
       "        To discuss automated access to Amazon data please contact api-services-support@amazon.com.\n",
       "        For information about migrating to our APIs refer to our Marketplace APIs at https://developer.amazonservices.in/ref=rm_c_sv, or our Product Advertising API at https://affiliate-program.amazon.in/gp/advertising/api/detail/main.html/ref=rm_c_ac for advertising use cases.\n",
       "-->\n",
       "<!--\n",
       "Correios.DoNotSend\n",
       "-->\n",
       "<div class=\"a-container a-padding-double-large\" style=\"min-width:350px;padding:44px 0 !important\">\n",
       "<div class=\"a-row a-spacing-double-large\" style=\"width: 350px; margin: 0 auto\">\n",
       "<div class=\"a-row a-spacing-medium a-text-center\"><i class=\"a-icon a-logo\"></i></div>\n",
       "<div class=\"a-box a-alert a-alert-info a-spacing-base\">\n",
       "<div class=\"a-box-inner\">\n",
       "<i class=\"a-icon a-icon-alert\"></i>\n",
       "<h4>Enter the characters you see below</h4>\n",
       "<p class=\"a-last\">Sorry, we just need to make sure you're not a robot. For best results, please make sure your browser is accepting cookies.</p>\n",
       "</div>\n",
       "</div>\n",
       "<div class=\"a-section\">\n",
       "<div class=\"a-box a-color-offset-background\">\n",
       "<div class=\"a-box-inner a-padding-extra-large\">\n",
       "<form action=\"/errors/validateCaptcha\" method=\"get\" name=\"\">\n",
       "<input name=\"amzn\" type=\"hidden\" value=\"NmEKH9AR1Q39QFKlEYtEoQ==\"/><input name=\"amzn-r\" type=\"hidden\" value=\"/OnePlus-Nord-Charcoal-128GB-Storage/product-reviews/B09576CYNP/ref=cm_cr_arp_d_paging_btm_next_2?ie=UTF8&amp;reviewerType=all_reviews&amp;pageNumber=2\"/>\n",
       "<div class=\"a-row a-spacing-large\">\n",
       "<div class=\"a-box\">\n",
       "<div class=\"a-box-inner\">\n",
       "<h4>Type the characters you see in this image:</h4>\n",
       "<!-- For automated access to price change or offer listing change events,\n",
       "                                             please refer to the MWS Subscription API:\n",
       "                                             https://developer.amazonservices.in/gp/mws/api.html/276-5247872-0590350?ie=UTF8&section=subscriptions&group=subscriptions&version=latest\n",
       "                                        -->\n",
       "<div class=\"a-row a-text-center\">\n",
       "<img src=\"https://images-na.ssl-images-amazon.com/captcha/cdkxpfei/Captcha_lnhmqeawrs.jpg\"/>\n",
       "</div>\n",
       "<div class=\"a-row a-spacing-base\">\n",
       "<div class=\"a-row\">\n",
       "<div class=\"a-column a-span6\">\n",
       "</div>\n",
       "<div class=\"a-column a-span6 a-span-last a-text-right\">\n",
       "<a onclick=\"window.location.reload()\">Try different image</a>\n",
       "</div>\n",
       "</div>\n",
       "<input autocapitalize=\"off\" autocomplete=\"off\" autocorrect=\"off\" class=\"a-span12\" id=\"captchacharacters\" name=\"field-keywords\" placeholder=\"Type characters\" spellcheck=\"false\" type=\"text\"/>\n",
       "</div>\n",
       "</div>\n",
       "</div>\n",
       "</div>\n",
       "<div class=\"a-section a-spacing-extra-large\">\n",
       "<div class=\"a-row\">\n",
       "<span class=\"a-button a-button-primary a-span12\">\n",
       "<span class=\"a-button-inner\">\n",
       "<button class=\"a-button-text\" type=\"submit\">Continue shopping</button>\n",
       "</span>\n",
       "</span>\n",
       "</div>\n",
       "</div>\n",
       "</form>\n",
       "</div>\n",
       "</div>\n",
       "</div>\n",
       "</div>\n",
       "<div class=\"a-divider a-divider-section\"><div class=\"a-divider-inner\"></div></div>\n",
       "<div class=\"a-text-center a-spacing-small a-size-mini\">\n",
       "<a href=\"https://www.amazon.in/gp/help/customer/display.html/ref=footer_cou?ie=UTF8&amp;nodeId=200545940\">Conditions of Use &amp; Sale</a>\n",
       "<span class=\"a-letter-space\"></span>\n",
       "<span class=\"a-letter-space\"></span>\n",
       "<span class=\"a-letter-space\"></span>\n",
       "<span class=\"a-letter-space\"></span>\n",
       "<a href=\"https://www.amazon.in/gp/help/customer/display.html/ref=footer_privacy?ie=UTF8&amp;nodeId=200534380\">Privacy Notice</a>\n",
       "</div>\n",
       "<div class=\"a-text-center a-size-mini a-color-secondary\">\n",
       "          © 1996-2015, Amazon.com, Inc. or its affiliates\n",
       "          <script>\n",
       "           if (true === true) {\n",
       "             document.write('<img src=\"https://fls-eu.amaz'+'on.in/'+'1/oc-csi/1/OP/requestId=A7GJYMY5ZQQDZ57YWSE5&js=1\" />');\n",
       "           };\n",
       "          </script>\n",
       "<noscript>\n",
       "<img src=\"https://fls-eu.amazon.in/1/oc-csi/1/OP/requestId=A7GJYMY5ZQQDZ57YWSE5&amp;js=0\">\n",
       "</img></noscript>\n",
       "</div>\n",
       "</div>\n",
       "<script>\n",
       "    if (true === true) {\n",
       "        var head = document.getElementsByTagName('head')[0],\n",
       "            prefix = \"https://images-eu.ssl-images-amazon.com/images/G/01/csminstrumentation/\",\n",
       "            elem = document.createElement(\"script\");\n",
       "        elem.src = prefix + \"csm-captcha-instrumentation.min.js\";\n",
       "        head.appendChild(elem);\n",
       "\n",
       "        elem = document.createElement(\"script\");\n",
       "        elem.src = prefix + \"rd-script-6d68177fa6061598e9509dc4b5bdd08d.js\";\n",
       "        head.appendChild(elem);\n",
       "    }\n",
       "    </script>\n",
       "</body></html>"
      ]
     },
     "execution_count": 27,
     "metadata": {},
     "output_type": "execute_result"
    }
   ],
   "source": [
    "soup=BeautifulSoup(resp.text,\"html.parser\")\n",
    "soup"
   ]
  },
  {
   "cell_type": "code",
   "execution_count": 28,
   "id": "4f9214c0",
   "metadata": {},
   "outputs": [
    {
     "data": {
      "text/plain": [
       "0"
      ]
     },
     "execution_count": 28,
     "metadata": {},
     "output_type": "execute_result"
    }
   ],
   "source": [
    "reviews = soup.find_all(\"div\", {\"class\": \"a-section review aok-relative\"})\n",
    "len(reviews)"
   ]
  },
  {
   "cell_type": "code",
   "execution_count": 29,
   "id": "8db59f30",
   "metadata": {},
   "outputs": [
    {
     "data": {
      "text/plain": [
       "'\\nfor r in reviews:\\n    print(r.find(\\'a\\', {\"class\": \"a-link-normal\"}).get_text())\\n    print( )\\n'"
      ]
     },
     "execution_count": 29,
     "metadata": {},
     "output_type": "execute_result"
    }
   ],
   "source": [
    "\"\"\"\n",
    "for r in reviews:\n",
    "    print(r.find('a', {\"class\": \"a-link-normal\"}).get_text())\n",
    "    print( )\n",
    "\"\"\""
   ]
  },
  {
   "cell_type": "code",
   "execution_count": 30,
   "id": "8c69c40d",
   "metadata": {},
   "outputs": [
    {
     "data": {
      "text/plain": [
       "'\\nfor r in reviews:\\n    print(r.find(\\'span\\',{\"class\": \"a-profile-name\"}\\n        ).get_text().strip())\\n    print( )\\n    '"
      ]
     },
     "execution_count": 30,
     "metadata": {},
     "output_type": "execute_result"
    }
   ],
   "source": [
    "\"\"\"\n",
    "for r in reviews:\n",
    "    print(r.find('span',{\"class\": \"a-profile-name\"}\n",
    "        ).get_text().strip())\n",
    "    print( )\n",
    "    \"\"\""
   ]
  },
  {
   "cell_type": "code",
   "execution_count": 31,
   "id": "4c598d9a",
   "metadata": {},
   "outputs": [
    {
     "data": {
      "text/plain": [
       "'\\nfor r in reviews:\\n    print(r.find(\\'span\\', \\n            {\"class\": \"a-size-base review-text review-text-content\"}).get_text().strip())\\n    print()\\n'"
      ]
     },
     "execution_count": 31,
     "metadata": {},
     "output_type": "execute_result"
    }
   ],
   "source": [
    "\"\"\"\n",
    "for r in reviews:\n",
    "    print(r.find('span', \n",
    "            {\"class\": \"a-size-base review-text review-text-content\"}).get_text().strip())\n",
    "    print()\n",
    "\"\"\""
   ]
  },
  {
   "cell_type": "code",
   "execution_count": 32,
   "id": "6e43c58f",
   "metadata": {},
   "outputs": [],
   "source": [
    "def get_review_stars(soup_obj: BeautifulSoup) -> str:\n",
    "    try:\n",
    "        review_str = soup_obj.find('a', {\"class\": \"a-link-normal\"}).get_text()\n",
    "        return review_str\n",
    "    except Exception as e:\n",
    "        return 'no_stars'\n",
    "        print(e)\n",
    "\n",
    "def get_customer_name(soup_obj: BeautifulSoup) -> str:\n",
    "    try:\n",
    "        review_name = soup_obj.find('span', {\"class\": \"a-profile-name\"}).get_text().strip()\n",
    "        return review_name\n",
    "    except Exception as e:\n",
    "        return 'no_name'\n",
    "        print(e)\n",
    "        \n",
    "def get_review_title(soup_obj:BeautifulSoup) -> str:\n",
    "    try:\n",
    "        review_title=soup_obj.find('a',{'data-hook':'review-title'}).get_text().strip()\n",
    "        return review_title\n",
    "    except Exception as e:\n",
    "        return 'no_title'\n",
    "        print(e)\n",
    "\n",
    "def get_review_body(soup_obj: BeautifulSoup) -> str:\n",
    "    try:\n",
    "        review_body = soup_obj.find('span', \n",
    "            {\"class\": \"a-size-base review-text review-text-content\"}\n",
    "        ).get_text().strip()\n",
    "        return review_body\n",
    "    except Exception as e:\n",
    "        return 'no_body'\n",
    "        print(e)"
   ]
  },
  {
   "cell_type": "code",
   "execution_count": 33,
   "id": "295eff3a",
   "metadata": {},
   "outputs": [],
   "source": [
    "for r in reviews:\n",
    "    print(r.find('a',{'data-hook':'review-title'}).get_text())\n",
    "    print()"
   ]
  },
  {
   "cell_type": "code",
   "execution_count": 34,
   "id": "78dd750b",
   "metadata": {},
   "outputs": [
    {
     "data": {
      "text/plain": [
       "'\\nfor r in reviews:\\n    print(r.find(\\'span\\', \\n            {\"class\": \"a-size-base a-color-secondary review-date\"}\\n        ).get_text().strip())\\n    print( )\\n'"
      ]
     },
     "execution_count": 34,
     "metadata": {},
     "output_type": "execute_result"
    }
   ],
   "source": [
    "\"\"\"\n",
    "for r in reviews:\n",
    "    print(r.find('span', \n",
    "            {\"class\": \"a-size-base a-color-secondary review-date\"}\n",
    "        ).get_text().strip())\n",
    "    print( )\n",
    "\"\"\""
   ]
  },
  {
   "cell_type": "code",
   "execution_count": 35,
   "id": "88d6ead0",
   "metadata": {},
   "outputs": [],
   "source": [
    "def get_review_components(soup_obj: BeautifulSoup) -> dict:\n",
    "    return {\n",
    "        'stars': get_review_stars(soup_obj), \n",
    "        'body': get_review_body(soup_obj), \n",
    "        'name': get_customer_name(soup_obj),\n",
    "        'title': get_review_title(soup_obj)\n",
    "    }\n",
    "    \n"
   ]
  },
  {
   "cell_type": "code",
   "execution_count": 36,
   "id": "32b5fcb1",
   "metadata": {},
   "outputs": [
    {
     "data": {
      "text/plain": [
       "[]"
      ]
     },
     "execution_count": 36,
     "metadata": {},
     "output_type": "execute_result"
    }
   ],
   "source": [
    "records = [get_review_components(rev) for rev in reviews]\n",
    "records"
   ]
  },
  {
   "cell_type": "code",
   "execution_count": 37,
   "id": "9e772b3b",
   "metadata": {},
   "outputs": [
    {
     "data": {
      "text/html": [
       "<div>\n",
       "<style scoped>\n",
       "    .dataframe tbody tr th:only-of-type {\n",
       "        vertical-align: middle;\n",
       "    }\n",
       "\n",
       "    .dataframe tbody tr th {\n",
       "        vertical-align: top;\n",
       "    }\n",
       "\n",
       "    .dataframe thead th {\n",
       "        text-align: right;\n",
       "    }\n",
       "</style>\n",
       "<table border=\"1\" class=\"dataframe\">\n",
       "  <thead>\n",
       "    <tr style=\"text-align: right;\">\n",
       "      <th></th>\n",
       "    </tr>\n",
       "  </thead>\n",
       "  <tbody>\n",
       "  </tbody>\n",
       "</table>\n",
       "</div>"
      ],
      "text/plain": [
       "Empty DataFrame\n",
       "Columns: []\n",
       "Index: []"
      ]
     },
     "execution_count": 37,
     "metadata": {},
     "output_type": "execute_result"
    }
   ],
   "source": [
    "df = pd.DataFrame.from_records(records)\n",
    "df"
   ]
  },
  {
   "cell_type": "code",
   "execution_count": 39,
   "id": "a50b55a9",
   "metadata": {},
   "outputs": [
    {
     "name": "stdout",
     "output_type": "stream",
     "text": [
      "https://www.amazon.in/OnePlus-Nord-Charcoal-128GB-Storage/product-reviews/B09576CYNP/ref=cm_cr_arp_d_paging_btm_next_2?ie=UTF8&reviewerType=all_reviews&pageNumber=1\n",
      "https://www.amazon.in/OnePlus-Nord-Charcoal-128GB-Storage/product-reviews/B09576CYNP/ref=cm_cr_arp_d_paging_btm_next_2?ie=UTF8&reviewerType=all_reviews&pageNumber=2\n",
      "https://www.amazon.in/OnePlus-Nord-Charcoal-128GB-Storage/product-reviews/B09576CYNP/ref=cm_cr_arp_d_paging_btm_next_2?ie=UTF8&reviewerType=all_reviews&pageNumber=3\n",
      "https://www.amazon.in/OnePlus-Nord-Charcoal-128GB-Storage/product-reviews/B09576CYNP/ref=cm_cr_arp_d_paging_btm_next_2?ie=UTF8&reviewerType=all_reviews&pageNumber=4\n",
      "https://www.amazon.in/OnePlus-Nord-Charcoal-128GB-Storage/product-reviews/B09576CYNP/ref=cm_cr_arp_d_paging_btm_next_2?ie=UTF8&reviewerType=all_reviews&pageNumber=5\n",
      "https://www.amazon.in/OnePlus-Nord-Charcoal-128GB-Storage/product-reviews/B09576CYNP/ref=cm_cr_arp_d_paging_btm_next_2?ie=UTF8&reviewerType=all_reviews&pageNumber=6\n",
      "https://www.amazon.in/OnePlus-Nord-Charcoal-128GB-Storage/product-reviews/B09576CYNP/ref=cm_cr_arp_d_paging_btm_next_2?ie=UTF8&reviewerType=all_reviews&pageNumber=7\n",
      "https://www.amazon.in/OnePlus-Nord-Charcoal-128GB-Storage/product-reviews/B09576CYNP/ref=cm_cr_arp_d_paging_btm_next_2?ie=UTF8&reviewerType=all_reviews&pageNumber=8\n",
      "https://www.amazon.in/OnePlus-Nord-Charcoal-128GB-Storage/product-reviews/B09576CYNP/ref=cm_cr_arp_d_paging_btm_next_2?ie=UTF8&reviewerType=all_reviews&pageNumber=9\n",
      "https://www.amazon.in/OnePlus-Nord-Charcoal-128GB-Storage/product-reviews/B09576CYNP/ref=cm_cr_arp_d_paging_btm_next_2?ie=UTF8&reviewerType=all_reviews&pageNumber=10\n",
      "https://www.amazon.in/OnePlus-Nord-Charcoal-128GB-Storage/product-reviews/B09576CYNP/ref=cm_cr_arp_d_paging_btm_next_2?ie=UTF8&reviewerType=all_reviews&pageNumber=11\n",
      "https://www.amazon.in/OnePlus-Nord-Charcoal-128GB-Storage/product-reviews/B09576CYNP/ref=cm_cr_arp_d_paging_btm_next_2?ie=UTF8&reviewerType=all_reviews&pageNumber=12\n",
      "https://www.amazon.in/OnePlus-Nord-Charcoal-128GB-Storage/product-reviews/B09576CYNP/ref=cm_cr_arp_d_paging_btm_next_2?ie=UTF8&reviewerType=all_reviews&pageNumber=13\n",
      "https://www.amazon.in/OnePlus-Nord-Charcoal-128GB-Storage/product-reviews/B09576CYNP/ref=cm_cr_arp_d_paging_btm_next_2?ie=UTF8&reviewerType=all_reviews&pageNumber=14\n",
      "https://www.amazon.in/OnePlus-Nord-Charcoal-128GB-Storage/product-reviews/B09576CYNP/ref=cm_cr_arp_d_paging_btm_next_2?ie=UTF8&reviewerType=all_reviews&pageNumber=15\n",
      "https://www.amazon.in/OnePlus-Nord-Charcoal-128GB-Storage/product-reviews/B09576CYNP/ref=cm_cr_arp_d_paging_btm_next_2?ie=UTF8&reviewerType=all_reviews&pageNumber=16\n",
      "https://www.amazon.in/OnePlus-Nord-Charcoal-128GB-Storage/product-reviews/B09576CYNP/ref=cm_cr_arp_d_paging_btm_next_2?ie=UTF8&reviewerType=all_reviews&pageNumber=17\n",
      "https://www.amazon.in/OnePlus-Nord-Charcoal-128GB-Storage/product-reviews/B09576CYNP/ref=cm_cr_arp_d_paging_btm_next_2?ie=UTF8&reviewerType=all_reviews&pageNumber=18\n",
      "https://www.amazon.in/OnePlus-Nord-Charcoal-128GB-Storage/product-reviews/B09576CYNP/ref=cm_cr_arp_d_paging_btm_next_2?ie=UTF8&reviewerType=all_reviews&pageNumber=19\n",
      "https://www.amazon.in/OnePlus-Nord-Charcoal-128GB-Storage/product-reviews/B09576CYNP/ref=cm_cr_arp_d_paging_btm_next_2?ie=UTF8&reviewerType=all_reviews&pageNumber=20\n",
      "https://www.amazon.in/OnePlus-Nord-Charcoal-128GB-Storage/product-reviews/B09576CYNP/ref=cm_cr_arp_d_paging_btm_next_2?ie=UTF8&reviewerType=all_reviews&pageNumber=21\n",
      "https://www.amazon.in/OnePlus-Nord-Charcoal-128GB-Storage/product-reviews/B09576CYNP/ref=cm_cr_arp_d_paging_btm_next_2?ie=UTF8&reviewerType=all_reviews&pageNumber=22\n",
      "https://www.amazon.in/OnePlus-Nord-Charcoal-128GB-Storage/product-reviews/B09576CYNP/ref=cm_cr_arp_d_paging_btm_next_2?ie=UTF8&reviewerType=all_reviews&pageNumber=23\n",
      "https://www.amazon.in/OnePlus-Nord-Charcoal-128GB-Storage/product-reviews/B09576CYNP/ref=cm_cr_arp_d_paging_btm_next_2?ie=UTF8&reviewerType=all_reviews&pageNumber=24\n",
      "https://www.amazon.in/OnePlus-Nord-Charcoal-128GB-Storage/product-reviews/B09576CYNP/ref=cm_cr_arp_d_paging_btm_next_2?ie=UTF8&reviewerType=all_reviews&pageNumber=25\n",
      "https://www.amazon.in/OnePlus-Nord-Charcoal-128GB-Storage/product-reviews/B09576CYNP/ref=cm_cr_arp_d_paging_btm_next_2?ie=UTF8&reviewerType=all_reviews&pageNumber=26\n",
      "https://www.amazon.in/OnePlus-Nord-Charcoal-128GB-Storage/product-reviews/B09576CYNP/ref=cm_cr_arp_d_paging_btm_next_2?ie=UTF8&reviewerType=all_reviews&pageNumber=27\n",
      "https://www.amazon.in/OnePlus-Nord-Charcoal-128GB-Storage/product-reviews/B09576CYNP/ref=cm_cr_arp_d_paging_btm_next_2?ie=UTF8&reviewerType=all_reviews&pageNumber=28\n",
      "https://www.amazon.in/OnePlus-Nord-Charcoal-128GB-Storage/product-reviews/B09576CYNP/ref=cm_cr_arp_d_paging_btm_next_2?ie=UTF8&reviewerType=all_reviews&pageNumber=29\n",
      "https://www.amazon.in/OnePlus-Nord-Charcoal-128GB-Storage/product-reviews/B09576CYNP/ref=cm_cr_arp_d_paging_btm_next_2?ie=UTF8&reviewerType=all_reviews&pageNumber=30\n",
      "https://www.amazon.in/OnePlus-Nord-Charcoal-128GB-Storage/product-reviews/B09576CYNP/ref=cm_cr_arp_d_paging_btm_next_2?ie=UTF8&reviewerType=all_reviews&pageNumber=31\n",
      "https://www.amazon.in/OnePlus-Nord-Charcoal-128GB-Storage/product-reviews/B09576CYNP/ref=cm_cr_arp_d_paging_btm_next_2?ie=UTF8&reviewerType=all_reviews&pageNumber=32\n",
      "https://www.amazon.in/OnePlus-Nord-Charcoal-128GB-Storage/product-reviews/B09576CYNP/ref=cm_cr_arp_d_paging_btm_next_2?ie=UTF8&reviewerType=all_reviews&pageNumber=33\n",
      "https://www.amazon.in/OnePlus-Nord-Charcoal-128GB-Storage/product-reviews/B09576CYNP/ref=cm_cr_arp_d_paging_btm_next_2?ie=UTF8&reviewerType=all_reviews&pageNumber=34\n",
      "https://www.amazon.in/OnePlus-Nord-Charcoal-128GB-Storage/product-reviews/B09576CYNP/ref=cm_cr_arp_d_paging_btm_next_2?ie=UTF8&reviewerType=all_reviews&pageNumber=35\n",
      "https://www.amazon.in/OnePlus-Nord-Charcoal-128GB-Storage/product-reviews/B09576CYNP/ref=cm_cr_arp_d_paging_btm_next_2?ie=UTF8&reviewerType=all_reviews&pageNumber=36\n"
     ]
    },
    {
     "data": {
      "text/html": [
       "<div>\n",
       "<style scoped>\n",
       "    .dataframe tbody tr th:only-of-type {\n",
       "        vertical-align: middle;\n",
       "    }\n",
       "\n",
       "    .dataframe tbody tr th {\n",
       "        vertical-align: top;\n",
       "    }\n",
       "\n",
       "    .dataframe thead th {\n",
       "        text-align: right;\n",
       "    }\n",
       "</style>\n",
       "<table border=\"1\" class=\"dataframe\">\n",
       "  <thead>\n",
       "    <tr style=\"text-align: right;\">\n",
       "      <th></th>\n",
       "      <th>stars</th>\n",
       "      <th>body</th>\n",
       "      <th>name</th>\n",
       "      <th>title</th>\n",
       "    </tr>\n",
       "  </thead>\n",
       "  <tbody>\n",
       "    <tr>\n",
       "      <th>0</th>\n",
       "      <td>1.0 out of 5 stars</td>\n",
       "      <td>Bakwas phone</td>\n",
       "      <td>vikas</td>\n",
       "      <td>Bakwas phone</td>\n",
       "    </tr>\n",
       "    <tr>\n",
       "      <th>1</th>\n",
       "      <td>1.0 out of 5 stars</td>\n",
       "      <td>It is like a normal android..not an OnePlus..L...</td>\n",
       "      <td>Verified buyer</td>\n",
       "      <td>It is not OnePlus</td>\n",
       "    </tr>\n",
       "    <tr>\n",
       "      <th>2</th>\n",
       "      <td>5.0 out of 5 stars</td>\n",
       "      <td>The best part of the phone is it's super simpl...</td>\n",
       "      <td>Rohit M</td>\n",
       "      <td>Good overall</td>\n",
       "    </tr>\n",
       "    <tr>\n",
       "      <th>3</th>\n",
       "      <td>5.0 out of 5 stars</td>\n",
       "      <td>Performance is really good - no lags at allPer...</td>\n",
       "      <td>Subhrajit Pyne</td>\n",
       "      <td>Smooth user experience</td>\n",
       "    </tr>\n",
       "    <tr>\n",
       "      <th>4</th>\n",
       "      <td>1.0 out of 5 stars</td>\n",
       "      <td>Phone looks good but features are 10k phoneCam...</td>\n",
       "      <td>Omar khan</td>\n",
       "      <td>Worst phone in this segment</td>\n",
       "    </tr>\n",
       "    <tr>\n",
       "      <th>...</th>\n",
       "      <td>...</td>\n",
       "      <td>...</td>\n",
       "      <td>...</td>\n",
       "      <td>...</td>\n",
       "    </tr>\n",
       "    <tr>\n",
       "      <th>355</th>\n",
       "      <td>1.0 out of 5 stars</td>\n",
       "      <td>It is slow against what they committed and it ...</td>\n",
       "      <td>Sairam Pidikiti</td>\n",
       "      <td>Not worth it</td>\n",
       "    </tr>\n",
       "    <tr>\n",
       "      <th>356</th>\n",
       "      <td>3.0 out of 5 stars</td>\n",
       "      <td>Good Camera but it can be better.Battery doesn...</td>\n",
       "      <td>Amit Kumar Sonthalia</td>\n",
       "      <td>Overall Good</td>\n",
       "    </tr>\n",
       "    <tr>\n",
       "      <th>357</th>\n",
       "      <td>4.0 out of 5 stars</td>\n",
       "      <td>Good purchase</td>\n",
       "      <td>shivani singh</td>\n",
       "      <td>Worth buying</td>\n",
       "    </tr>\n",
       "    <tr>\n",
       "      <th>358</th>\n",
       "      <td>4.0 out of 5 stars</td>\n",
       "      <td>Just what you need....Battery is draining a li...</td>\n",
       "      <td>@bunty</td>\n",
       "      <td>Noice</td>\n",
       "    </tr>\n",
       "    <tr>\n",
       "      <th>359</th>\n",
       "      <td>3.0 out of 5 stars</td>\n",
       "      <td>Good phone for regular usage ( maybe best for ...</td>\n",
       "      <td>Virik Hirani</td>\n",
       "      <td>3.5/5 for Price value</td>\n",
       "    </tr>\n",
       "  </tbody>\n",
       "</table>\n",
       "<p>360 rows × 4 columns</p>\n",
       "</div>"
      ],
      "text/plain": [
       "                  stars                                               body  \\\n",
       "0    1.0 out of 5 stars                                       Bakwas phone   \n",
       "1    1.0 out of 5 stars  It is like a normal android..not an OnePlus..L...   \n",
       "2    5.0 out of 5 stars  The best part of the phone is it's super simpl...   \n",
       "3    5.0 out of 5 stars  Performance is really good - no lags at allPer...   \n",
       "4    1.0 out of 5 stars  Phone looks good but features are 10k phoneCam...   \n",
       "..                  ...                                                ...   \n",
       "355  1.0 out of 5 stars  It is slow against what they committed and it ...   \n",
       "356  3.0 out of 5 stars  Good Camera but it can be better.Battery doesn...   \n",
       "357  4.0 out of 5 stars                                      Good purchase   \n",
       "358  4.0 out of 5 stars  Just what you need....Battery is draining a li...   \n",
       "359  3.0 out of 5 stars  Good phone for regular usage ( maybe best for ...   \n",
       "\n",
       "                     name                        title  \n",
       "0                   vikas                 Bakwas phone  \n",
       "1          Verified buyer            It is not OnePlus  \n",
       "2                 Rohit M                 Good overall  \n",
       "3          Subhrajit Pyne       Smooth user experience  \n",
       "4               Omar khan  Worst phone in this segment  \n",
       "..                    ...                          ...  \n",
       "355       Sairam Pidikiti                 Not worth it  \n",
       "356  Amit Kumar Sonthalia                 Overall Good  \n",
       "357         shivani singh                 Worth buying  \n",
       "358                @bunty                        Noice  \n",
       "359          Virik Hirani        3.5/5 for Price value  \n",
       "\n",
       "[360 rows x 4 columns]"
      ]
     },
     "execution_count": 39,
     "metadata": {},
     "output_type": "execute_result"
    }
   ],
   "source": [
    "ALL_REVIEWS = []\n",
    "\n",
    "for u in list_url:\n",
    "    print(u)\n",
    "    resp = requests.get(u, headers=headers)\n",
    "    soup = BeautifulSoup(resp.text, \"html.parser\")\n",
    "    reviews = soup.find_all(\"div\", {\"class\": \"a-section review aok-relative\"})\n",
    "    records = [get_review_components(rev) for rev in reviews]\n",
    "    ALL_REVIEWS.extend(records) \n",
    "    \n",
    "    \n",
    "op = pd.DataFrame.from_records(ALL_REVIEWS)\n",
    "op"
   ]
  },
  {
   "cell_type": "code",
   "execution_count": 40,
   "id": "c4b6197d",
   "metadata": {},
   "outputs": [
    {
     "data": {
      "text/html": [
       "<div>\n",
       "<style scoped>\n",
       "    .dataframe tbody tr th:only-of-type {\n",
       "        vertical-align: middle;\n",
       "    }\n",
       "\n",
       "    .dataframe tbody tr th {\n",
       "        vertical-align: top;\n",
       "    }\n",
       "\n",
       "    .dataframe thead th {\n",
       "        text-align: right;\n",
       "    }\n",
       "</style>\n",
       "<table border=\"1\" class=\"dataframe\">\n",
       "  <thead>\n",
       "    <tr style=\"text-align: right;\">\n",
       "      <th></th>\n",
       "      <th>stars</th>\n",
       "      <th>body</th>\n",
       "      <th>name</th>\n",
       "      <th>title</th>\n",
       "    </tr>\n",
       "  </thead>\n",
       "  <tbody>\n",
       "    <tr>\n",
       "      <th>0</th>\n",
       "      <td>1.0 out of 5 stars</td>\n",
       "      <td>Bakwas phone</td>\n",
       "      <td>vikas</td>\n",
       "      <td>Bakwas phone</td>\n",
       "    </tr>\n",
       "    <tr>\n",
       "      <th>1</th>\n",
       "      <td>1.0 out of 5 stars</td>\n",
       "      <td>It is like a normal android..not an OnePlus..L...</td>\n",
       "      <td>Verified buyer</td>\n",
       "      <td>It is not OnePlus</td>\n",
       "    </tr>\n",
       "    <tr>\n",
       "      <th>2</th>\n",
       "      <td>5.0 out of 5 stars</td>\n",
       "      <td>The best part of the phone is it's super simpl...</td>\n",
       "      <td>Rohit M</td>\n",
       "      <td>Good overall</td>\n",
       "    </tr>\n",
       "    <tr>\n",
       "      <th>3</th>\n",
       "      <td>5.0 out of 5 stars</td>\n",
       "      <td>Performance is really good - no lags at allPer...</td>\n",
       "      <td>Subhrajit Pyne</td>\n",
       "      <td>Smooth user experience</td>\n",
       "    </tr>\n",
       "    <tr>\n",
       "      <th>4</th>\n",
       "      <td>1.0 out of 5 stars</td>\n",
       "      <td>Phone looks good but features are 10k phoneCam...</td>\n",
       "      <td>Omar khan</td>\n",
       "      <td>Worst phone in this segment</td>\n",
       "    </tr>\n",
       "    <tr>\n",
       "      <th>5</th>\n",
       "      <td>5.0 out of 5 stars</td>\n",
       "      <td>My first impression was overwhelming as it was...</td>\n",
       "      <td>Sunil Pareek</td>\n",
       "      <td>the best 🤞</td>\n",
       "    </tr>\n",
       "    <tr>\n",
       "      <th>6</th>\n",
       "      <td>5.0 out of 5 stars</td>\n",
       "      <td>Awesome phone, amazing camera, better than nor...</td>\n",
       "      <td>sayyad awez</td>\n",
       "      <td>Awesome</td>\n",
       "    </tr>\n",
       "    <tr>\n",
       "      <th>7</th>\n",
       "      <td>5.0 out of 5 stars</td>\n",
       "      <td>Awesome phone in this price.....Camera and fea...</td>\n",
       "      <td>Mr KK</td>\n",
       "      <td>Great phone</td>\n",
       "    </tr>\n",
       "    <tr>\n",
       "      <th>8</th>\n",
       "      <td>5.0 out of 5 stars</td>\n",
       "      <td>So far, so good. While the omission of the ale...</td>\n",
       "      <td>Dhiren Punjabi</td>\n",
       "      <td>Buy if software performance matters most to you.</td>\n",
       "    </tr>\n",
       "    <tr>\n",
       "      <th>9</th>\n",
       "      <td>5.0 out of 5 stars</td>\n",
       "      <td>Great phone</td>\n",
       "      <td>Deepak panwar</td>\n",
       "      <td>Great product and good good service by amazon</td>\n",
       "    </tr>\n",
       "    <tr>\n",
       "      <th>10</th>\n",
       "      <td>5.0 out of 5 stars</td>\n",
       "      <td>Pros -1.Good battery Backup2.Super-Amoled Flui...</td>\n",
       "      <td>Vishal Chaudhary</td>\n",
       "      <td>Best smartphone under 25000</td>\n",
       "    </tr>\n",
       "    <tr>\n",
       "      <th>11</th>\n",
       "      <td>5.0 out of 5 stars</td>\n",
       "      <td>First of all thanks to Amazon to deliver my ph...</td>\n",
       "      <td>Ajit Thakur</td>\n",
       "      <td>Fab !!</td>\n",
       "    </tr>\n",
       "    <tr>\n",
       "      <th>12</th>\n",
       "      <td>5.0 out of 5 stars</td>\n",
       "      <td>I have one plus six purchase in 2018. It was w...</td>\n",
       "      <td>SAUMENDRA NATH BAGCHI</td>\n",
       "      <td>Impressive and smart phone</td>\n",
       "    </tr>\n",
       "    <tr>\n",
       "      <th>13</th>\n",
       "      <td>5.0 out of 5 stars</td>\n",
       "      <td>The smoothest phone I have used so far. I have...</td>\n",
       "      <td>Sandeep Heggi</td>\n",
       "      <td>Smooth as butter</td>\n",
       "    </tr>\n",
       "    <tr>\n",
       "      <th>14</th>\n",
       "      <td>5.0 out of 5 stars</td>\n",
       "      <td>Wonderful mobile ever, Great Experience Ahead.</td>\n",
       "      <td>Manish Gaur</td>\n",
       "      <td>Everything is awesome in one plus nord CE 5G</td>\n",
       "    </tr>\n",
       "    <tr>\n",
       "      <th>15</th>\n",
       "      <td>1.0 out of 5 stars</td>\n",
       "      <td>23 jun-Update after using almost 4 days,Front ...</td>\n",
       "      <td>Myra</td>\n",
       "      <td>Disappointed due to camera</td>\n",
       "    </tr>\n",
       "    <tr>\n",
       "      <th>16</th>\n",
       "      <td>5.0 out of 5 stars</td>\n",
       "      <td>Best phone this price.</td>\n",
       "      <td>Shivangi shukla</td>\n",
       "      <td>Quality is unavailable.</td>\n",
       "    </tr>\n",
       "    <tr>\n",
       "      <th>17</th>\n",
       "      <td>1.0 out of 5 stars</td>\n",
       "      <td>Worst mobile, dont waste your hard earn money ...</td>\n",
       "      <td>sumit s.</td>\n",
       "      <td>Worst mobile</td>\n",
       "    </tr>\n",
       "    <tr>\n",
       "      <th>18</th>\n",
       "      <td>5.0 out of 5 stars</td>\n",
       "      <td>Go for it... Take my word.. nothing better at ...</td>\n",
       "      <td>Bibu PP</td>\n",
       "      <td>Excellent phone ... No match</td>\n",
       "    </tr>\n",
       "    <tr>\n",
       "      <th>19</th>\n",
       "      <td>5.0 out of 5 stars</td>\n",
       "      <td>Your browser does not support HTML5 video.\\n\\n...</td>\n",
       "      <td>Thiyagu</td>\n",
       "      <td>BEST DISPLAY under this price segment.</td>\n",
       "    </tr>\n",
       "    <tr>\n",
       "      <th>20</th>\n",
       "      <td>5.0 out of 5 stars</td>\n",
       "      <td>Pros:OSDisplayCameraProcessorCons:Battery Drai...</td>\n",
       "      <td>Nikhil Tyagi</td>\n",
       "      <td>Decent Phone For Standard use</td>\n",
       "    </tr>\n",
       "    <tr>\n",
       "      <th>21</th>\n",
       "      <td>5.0 out of 5 stars</td>\n",
       "      <td>I definitely liked this phone. Camera quality ...</td>\n",
       "      <td>Anirudh Eedulai</td>\n",
       "      <td>Very good Phone in this budget</td>\n",
       "    </tr>\n",
       "    <tr>\n",
       "      <th>22</th>\n",
       "      <td>5.0 out of 5 stars</td>\n",
       "      <td>Super in chargeing super photo must buy it</td>\n",
       "      <td>Amazon Customer</td>\n",
       "      <td>Super</td>\n",
       "    </tr>\n",
       "    <tr>\n",
       "      <th>23</th>\n",
       "      <td>5.0 out of 5 stars</td>\n",
       "      <td>First oneplus product owned till now and I am ...</td>\n",
       "      <td>Gokul Patil</td>\n",
       "      <td>Nice camera, smooth working  and ample of feat...</td>\n",
       "    </tr>\n",
       "    <tr>\n",
       "      <th>24</th>\n",
       "      <td>2.0 out of 5 stars</td>\n",
       "      <td>Camera quality not good</td>\n",
       "      <td>K. Murali krishna</td>\n",
       "      <td>Camera issue</td>\n",
       "    </tr>\n",
       "    <tr>\n",
       "      <th>25</th>\n",
       "      <td>5.0 out of 5 stars</td>\n",
       "      <td>Excellent mobile from one plus  best price als...</td>\n",
       "      <td>chbharath</td>\n",
       "      <td>One plus is the best brand</td>\n",
       "    </tr>\n",
       "    <tr>\n",
       "      <th>26</th>\n",
       "      <td>5.0 out of 5 stars</td>\n",
       "      <td>Oneplus is always Oneplus.Very good phone at t...</td>\n",
       "      <td>Sukanta Biswas</td>\n",
       "      <td>This is 3rd Oneplus and not disappointed</td>\n",
       "    </tr>\n",
       "    <tr>\n",
       "      <th>27</th>\n",
       "      <td>5.0 out of 5 stars</td>\n",
       "      <td>Excellent 👌all are super</td>\n",
       "      <td>sateesh</td>\n",
       "      <td>Fabulous</td>\n",
       "    </tr>\n",
       "    <tr>\n",
       "      <th>28</th>\n",
       "      <td>1.0 out of 5 stars</td>\n",
       "      <td>Waste of money, phone heats like a volcano. Wi...</td>\n",
       "      <td>Shubham Dajjuka</td>\n",
       "      <td>Waste of money</td>\n",
       "    </tr>\n",
       "    <tr>\n",
       "      <th>29</th>\n",
       "      <td>5.0 out of 5 stars</td>\n",
       "      <td>good</td>\n",
       "      <td>Vittal Rao Gadipelli</td>\n",
       "      <td>OnePlus Nord CE 5G (Charcoal Ink, 8GB RAM, 128...</td>\n",
       "    </tr>\n",
       "  </tbody>\n",
       "</table>\n",
       "</div>"
      ],
      "text/plain": [
       "                 stars                                               body  \\\n",
       "0   1.0 out of 5 stars                                       Bakwas phone   \n",
       "1   1.0 out of 5 stars  It is like a normal android..not an OnePlus..L...   \n",
       "2   5.0 out of 5 stars  The best part of the phone is it's super simpl...   \n",
       "3   5.0 out of 5 stars  Performance is really good - no lags at allPer...   \n",
       "4   1.0 out of 5 stars  Phone looks good but features are 10k phoneCam...   \n",
       "5   5.0 out of 5 stars  My first impression was overwhelming as it was...   \n",
       "6   5.0 out of 5 stars  Awesome phone, amazing camera, better than nor...   \n",
       "7   5.0 out of 5 stars  Awesome phone in this price.....Camera and fea...   \n",
       "8   5.0 out of 5 stars  So far, so good. While the omission of the ale...   \n",
       "9   5.0 out of 5 stars                                        Great phone   \n",
       "10  5.0 out of 5 stars  Pros -1.Good battery Backup2.Super-Amoled Flui...   \n",
       "11  5.0 out of 5 stars  First of all thanks to Amazon to deliver my ph...   \n",
       "12  5.0 out of 5 stars  I have one plus six purchase in 2018. It was w...   \n",
       "13  5.0 out of 5 stars  The smoothest phone I have used so far. I have...   \n",
       "14  5.0 out of 5 stars     Wonderful mobile ever, Great Experience Ahead.   \n",
       "15  1.0 out of 5 stars  23 jun-Update after using almost 4 days,Front ...   \n",
       "16  5.0 out of 5 stars                             Best phone this price.   \n",
       "17  1.0 out of 5 stars  Worst mobile, dont waste your hard earn money ...   \n",
       "18  5.0 out of 5 stars  Go for it... Take my word.. nothing better at ...   \n",
       "19  5.0 out of 5 stars  Your browser does not support HTML5 video.\\n\\n...   \n",
       "20  5.0 out of 5 stars  Pros:OSDisplayCameraProcessorCons:Battery Drai...   \n",
       "21  5.0 out of 5 stars  I definitely liked this phone. Camera quality ...   \n",
       "22  5.0 out of 5 stars         Super in chargeing super photo must buy it   \n",
       "23  5.0 out of 5 stars  First oneplus product owned till now and I am ...   \n",
       "24  2.0 out of 5 stars                            Camera quality not good   \n",
       "25  5.0 out of 5 stars  Excellent mobile from one plus  best price als...   \n",
       "26  5.0 out of 5 stars  Oneplus is always Oneplus.Very good phone at t...   \n",
       "27  5.0 out of 5 stars                           Excellent 👌all are super   \n",
       "28  1.0 out of 5 stars  Waste of money, phone heats like a volcano. Wi...   \n",
       "29  5.0 out of 5 stars                                               good   \n",
       "\n",
       "                     name                                              title  \n",
       "0                   vikas                                       Bakwas phone  \n",
       "1          Verified buyer                                  It is not OnePlus  \n",
       "2                 Rohit M                                       Good overall  \n",
       "3          Subhrajit Pyne                             Smooth user experience  \n",
       "4               Omar khan                        Worst phone in this segment  \n",
       "5            Sunil Pareek                                         the best 🤞  \n",
       "6             sayyad awez                                            Awesome  \n",
       "7                   Mr KK                                        Great phone  \n",
       "8          Dhiren Punjabi   Buy if software performance matters most to you.  \n",
       "9           Deepak panwar      Great product and good good service by amazon  \n",
       "10       Vishal Chaudhary                        Best smartphone under 25000  \n",
       "11            Ajit Thakur                                             Fab !!  \n",
       "12  SAUMENDRA NATH BAGCHI                         Impressive and smart phone  \n",
       "13          Sandeep Heggi                                   Smooth as butter  \n",
       "14            Manish Gaur       Everything is awesome in one plus nord CE 5G  \n",
       "15                   Myra                         Disappointed due to camera  \n",
       "16        Shivangi shukla                            Quality is unavailable.  \n",
       "17               sumit s.                                       Worst mobile  \n",
       "18                Bibu PP                       Excellent phone ... No match  \n",
       "19                Thiyagu             BEST DISPLAY under this price segment.  \n",
       "20           Nikhil Tyagi                      Decent Phone For Standard use  \n",
       "21        Anirudh Eedulai                     Very good Phone in this budget  \n",
       "22        Amazon Customer                                              Super  \n",
       "23            Gokul Patil  Nice camera, smooth working  and ample of feat...  \n",
       "24      K. Murali krishna                                       Camera issue  \n",
       "25              chbharath                         One plus is the best brand  \n",
       "26         Sukanta Biswas           This is 3rd Oneplus and not disappointed  \n",
       "27                sateesh                                           Fabulous  \n",
       "28        Shubham Dajjuka                                     Waste of money  \n",
       "29   Vittal Rao Gadipelli  OnePlus Nord CE 5G (Charcoal Ink, 8GB RAM, 128...  "
      ]
     },
     "execution_count": 40,
     "metadata": {},
     "output_type": "execute_result"
    }
   ],
   "source": [
    "op.head(30)"
   ]
  },
  {
   "cell_type": "code",
   "execution_count": 41,
   "id": "6e1c1bb5",
   "metadata": {},
   "outputs": [],
   "source": [
    "op.to_csv('nord.csv')"
   ]
  },
  {
   "cell_type": "markdown",
   "id": "016ebc58",
   "metadata": {},
   "source": [
    "----"
   ]
  },
  {
   "cell_type": "markdown",
   "id": "d7117b0c",
   "metadata": {},
   "source": [
    "# Text mining"
   ]
  },
  {
   "cell_type": "code",
   "execution_count": 2,
   "id": "921e41ce",
   "metadata": {},
   "outputs": [],
   "source": [
    "import pandas as pd\n",
    "import numpy as num"
   ]
  },
  {
   "cell_type": "code",
   "execution_count": 6,
   "id": "cbc73475",
   "metadata": {},
   "outputs": [
    {
     "data": {
      "text/html": [
       "<div>\n",
       "<style scoped>\n",
       "    .dataframe tbody tr th:only-of-type {\n",
       "        vertical-align: middle;\n",
       "    }\n",
       "\n",
       "    .dataframe tbody tr th {\n",
       "        vertical-align: top;\n",
       "    }\n",
       "\n",
       "    .dataframe thead th {\n",
       "        text-align: right;\n",
       "    }\n",
       "</style>\n",
       "<table border=\"1\" class=\"dataframe\">\n",
       "  <thead>\n",
       "    <tr style=\"text-align: right;\">\n",
       "      <th></th>\n",
       "      <th>Unnamed: 0</th>\n",
       "      <th>stars</th>\n",
       "      <th>body</th>\n",
       "      <th>name</th>\n",
       "      <th>title</th>\n",
       "    </tr>\n",
       "  </thead>\n",
       "  <tbody>\n",
       "    <tr>\n",
       "      <th>0</th>\n",
       "      <td>0</td>\n",
       "      <td>1.0 out of 5 stars</td>\n",
       "      <td>Bakwas phone</td>\n",
       "      <td>vikas</td>\n",
       "      <td>Bakwas phone</td>\n",
       "    </tr>\n",
       "    <tr>\n",
       "      <th>1</th>\n",
       "      <td>1</td>\n",
       "      <td>1.0 out of 5 stars</td>\n",
       "      <td>It is like a normal android..not an OnePlus..L...</td>\n",
       "      <td>Verified buyer</td>\n",
       "      <td>It is not OnePlus</td>\n",
       "    </tr>\n",
       "    <tr>\n",
       "      <th>2</th>\n",
       "      <td>2</td>\n",
       "      <td>5.0 out of 5 stars</td>\n",
       "      <td>The best part of the phone is it's super simpl...</td>\n",
       "      <td>Rohit M</td>\n",
       "      <td>Good overall</td>\n",
       "    </tr>\n",
       "    <tr>\n",
       "      <th>3</th>\n",
       "      <td>3</td>\n",
       "      <td>5.0 out of 5 stars</td>\n",
       "      <td>Performance is really good - no lags at allPer...</td>\n",
       "      <td>Subhrajit Pyne</td>\n",
       "      <td>Smooth user experience</td>\n",
       "    </tr>\n",
       "    <tr>\n",
       "      <th>4</th>\n",
       "      <td>4</td>\n",
       "      <td>1.0 out of 5 stars</td>\n",
       "      <td>Phone looks good but features are 10k phoneCam...</td>\n",
       "      <td>Omar khan</td>\n",
       "      <td>Worst phone in this segment</td>\n",
       "    </tr>\n",
       "    <tr>\n",
       "      <th>...</th>\n",
       "      <td>...</td>\n",
       "      <td>...</td>\n",
       "      <td>...</td>\n",
       "      <td>...</td>\n",
       "      <td>...</td>\n",
       "    </tr>\n",
       "    <tr>\n",
       "      <th>355</th>\n",
       "      <td>355</td>\n",
       "      <td>1.0 out of 5 stars</td>\n",
       "      <td>It is slow against what they committed and it ...</td>\n",
       "      <td>Sairam Pidikiti</td>\n",
       "      <td>Not worth it</td>\n",
       "    </tr>\n",
       "    <tr>\n",
       "      <th>356</th>\n",
       "      <td>356</td>\n",
       "      <td>3.0 out of 5 stars</td>\n",
       "      <td>Good Camera but it can be better.Battery doesn...</td>\n",
       "      <td>Amit Kumar Sonthalia</td>\n",
       "      <td>Overall Good</td>\n",
       "    </tr>\n",
       "    <tr>\n",
       "      <th>357</th>\n",
       "      <td>357</td>\n",
       "      <td>4.0 out of 5 stars</td>\n",
       "      <td>Good purchase</td>\n",
       "      <td>shivani singh</td>\n",
       "      <td>Worth buying</td>\n",
       "    </tr>\n",
       "    <tr>\n",
       "      <th>358</th>\n",
       "      <td>358</td>\n",
       "      <td>4.0 out of 5 stars</td>\n",
       "      <td>Just what you need....Battery is draining a li...</td>\n",
       "      <td>@bunty</td>\n",
       "      <td>Noice</td>\n",
       "    </tr>\n",
       "    <tr>\n",
       "      <th>359</th>\n",
       "      <td>359</td>\n",
       "      <td>3.0 out of 5 stars</td>\n",
       "      <td>Good phone for regular usage ( maybe best for ...</td>\n",
       "      <td>Virik Hirani</td>\n",
       "      <td>3.5/5 for Price value</td>\n",
       "    </tr>\n",
       "  </tbody>\n",
       "</table>\n",
       "<p>360 rows × 5 columns</p>\n",
       "</div>"
      ],
      "text/plain": [
       "     Unnamed: 0               stars  \\\n",
       "0             0  1.0 out of 5 stars   \n",
       "1             1  1.0 out of 5 stars   \n",
       "2             2  5.0 out of 5 stars   \n",
       "3             3  5.0 out of 5 stars   \n",
       "4             4  1.0 out of 5 stars   \n",
       "..          ...                 ...   \n",
       "355         355  1.0 out of 5 stars   \n",
       "356         356  3.0 out of 5 stars   \n",
       "357         357  4.0 out of 5 stars   \n",
       "358         358  4.0 out of 5 stars   \n",
       "359         359  3.0 out of 5 stars   \n",
       "\n",
       "                                                  body                  name  \\\n",
       "0                                         Bakwas phone                 vikas   \n",
       "1    It is like a normal android..not an OnePlus..L...        Verified buyer   \n",
       "2    The best part of the phone is it's super simpl...               Rohit M   \n",
       "3    Performance is really good - no lags at allPer...        Subhrajit Pyne   \n",
       "4    Phone looks good but features are 10k phoneCam...             Omar khan   \n",
       "..                                                 ...                   ...   \n",
       "355  It is slow against what they committed and it ...       Sairam Pidikiti   \n",
       "356  Good Camera but it can be better.Battery doesn...  Amit Kumar Sonthalia   \n",
       "357                                      Good purchase         shivani singh   \n",
       "358  Just what you need....Battery is draining a li...                @bunty   \n",
       "359  Good phone for regular usage ( maybe best for ...          Virik Hirani   \n",
       "\n",
       "                           title  \n",
       "0                   Bakwas phone  \n",
       "1              It is not OnePlus  \n",
       "2                   Good overall  \n",
       "3         Smooth user experience  \n",
       "4    Worst phone in this segment  \n",
       "..                           ...  \n",
       "355                 Not worth it  \n",
       "356                 Overall Good  \n",
       "357                 Worth buying  \n",
       "358                        Noice  \n",
       "359        3.5/5 for Price value  \n",
       "\n",
       "[360 rows x 5 columns]"
      ]
     },
     "execution_count": 6,
     "metadata": {},
     "output_type": "execute_result"
    }
   ],
   "source": [
    "df=pd.read_csv('nord.csv')\n",
    "df"
   ]
  },
  {
   "cell_type": "code",
   "execution_count": 7,
   "id": "f7e036b2",
   "metadata": {},
   "outputs": [],
   "source": [
    "df.drop('Unnamed: 0',axis=1,inplace=True)\n",
    "df['stars'] = [titles.rstrip(' out of 5 stars') for titles in df['stars']]"
   ]
  },
  {
   "cell_type": "code",
   "execution_count": 8,
   "id": "7771bd2f",
   "metadata": {},
   "outputs": [
    {
     "data": {
      "text/html": [
       "<div>\n",
       "<style scoped>\n",
       "    .dataframe tbody tr th:only-of-type {\n",
       "        vertical-align: middle;\n",
       "    }\n",
       "\n",
       "    .dataframe tbody tr th {\n",
       "        vertical-align: top;\n",
       "    }\n",
       "\n",
       "    .dataframe thead th {\n",
       "        text-align: right;\n",
       "    }\n",
       "</style>\n",
       "<table border=\"1\" class=\"dataframe\">\n",
       "  <thead>\n",
       "    <tr style=\"text-align: right;\">\n",
       "      <th></th>\n",
       "      <th>stars</th>\n",
       "      <th>body</th>\n",
       "      <th>name</th>\n",
       "      <th>title</th>\n",
       "    </tr>\n",
       "  </thead>\n",
       "  <tbody>\n",
       "    <tr>\n",
       "      <th>0</th>\n",
       "      <td>1.0</td>\n",
       "      <td>Bakwas phone</td>\n",
       "      <td>vikas</td>\n",
       "      <td>Bakwas phone</td>\n",
       "    </tr>\n",
       "    <tr>\n",
       "      <th>1</th>\n",
       "      <td>1.0</td>\n",
       "      <td>It is like a normal android..not an OnePlus..L...</td>\n",
       "      <td>Verified buyer</td>\n",
       "      <td>It is not OnePlus</td>\n",
       "    </tr>\n",
       "    <tr>\n",
       "      <th>2</th>\n",
       "      <td>5.0</td>\n",
       "      <td>The best part of the phone is it's super simpl...</td>\n",
       "      <td>Rohit M</td>\n",
       "      <td>Good overall</td>\n",
       "    </tr>\n",
       "    <tr>\n",
       "      <th>3</th>\n",
       "      <td>5.0</td>\n",
       "      <td>Performance is really good - no lags at allPer...</td>\n",
       "      <td>Subhrajit Pyne</td>\n",
       "      <td>Smooth user experience</td>\n",
       "    </tr>\n",
       "    <tr>\n",
       "      <th>4</th>\n",
       "      <td>1.0</td>\n",
       "      <td>Phone looks good but features are 10k phoneCam...</td>\n",
       "      <td>Omar khan</td>\n",
       "      <td>Worst phone in this segment</td>\n",
       "    </tr>\n",
       "    <tr>\n",
       "      <th>...</th>\n",
       "      <td>...</td>\n",
       "      <td>...</td>\n",
       "      <td>...</td>\n",
       "      <td>...</td>\n",
       "    </tr>\n",
       "    <tr>\n",
       "      <th>355</th>\n",
       "      <td>1.0</td>\n",
       "      <td>It is slow against what they committed and it ...</td>\n",
       "      <td>Sairam Pidikiti</td>\n",
       "      <td>Not worth it</td>\n",
       "    </tr>\n",
       "    <tr>\n",
       "      <th>356</th>\n",
       "      <td>3.0</td>\n",
       "      <td>Good Camera but it can be better.Battery doesn...</td>\n",
       "      <td>Amit Kumar Sonthalia</td>\n",
       "      <td>Overall Good</td>\n",
       "    </tr>\n",
       "    <tr>\n",
       "      <th>357</th>\n",
       "      <td>4.0</td>\n",
       "      <td>Good purchase</td>\n",
       "      <td>shivani singh</td>\n",
       "      <td>Worth buying</td>\n",
       "    </tr>\n",
       "    <tr>\n",
       "      <th>358</th>\n",
       "      <td>4.0</td>\n",
       "      <td>Just what you need....Battery is draining a li...</td>\n",
       "      <td>@bunty</td>\n",
       "      <td>Noice</td>\n",
       "    </tr>\n",
       "    <tr>\n",
       "      <th>359</th>\n",
       "      <td>3.0</td>\n",
       "      <td>Good phone for regular usage ( maybe best for ...</td>\n",
       "      <td>Virik Hirani</td>\n",
       "      <td>3.5/5 for Price value</td>\n",
       "    </tr>\n",
       "  </tbody>\n",
       "</table>\n",
       "<p>360 rows × 4 columns</p>\n",
       "</div>"
      ],
      "text/plain": [
       "    stars                                               body  \\\n",
       "0     1.0                                       Bakwas phone   \n",
       "1     1.0  It is like a normal android..not an OnePlus..L...   \n",
       "2     5.0  The best part of the phone is it's super simpl...   \n",
       "3     5.0  Performance is really good - no lags at allPer...   \n",
       "4     1.0  Phone looks good but features are 10k phoneCam...   \n",
       "..    ...                                                ...   \n",
       "355   1.0  It is slow against what they committed and it ...   \n",
       "356   3.0  Good Camera but it can be better.Battery doesn...   \n",
       "357   4.0                                      Good purchase   \n",
       "358   4.0  Just what you need....Battery is draining a li...   \n",
       "359   3.0  Good phone for regular usage ( maybe best for ...   \n",
       "\n",
       "                     name                        title  \n",
       "0                   vikas                 Bakwas phone  \n",
       "1          Verified buyer            It is not OnePlus  \n",
       "2                 Rohit M                 Good overall  \n",
       "3          Subhrajit Pyne       Smooth user experience  \n",
       "4               Omar khan  Worst phone in this segment  \n",
       "..                    ...                          ...  \n",
       "355       Sairam Pidikiti                 Not worth it  \n",
       "356  Amit Kumar Sonthalia                 Overall Good  \n",
       "357         shivani singh                 Worth buying  \n",
       "358                @bunty                        Noice  \n",
       "359          Virik Hirani        3.5/5 for Price value  \n",
       "\n",
       "[360 rows x 4 columns]"
      ]
     },
     "execution_count": 8,
     "metadata": {},
     "output_type": "execute_result"
    }
   ],
   "source": [
    "df"
   ]
  },
  {
   "cell_type": "code",
   "execution_count": 9,
   "id": "5375b253",
   "metadata": {},
   "outputs": [],
   "source": [
    "cust_name = df['name'] \n",
    "review_title = df['title']\n",
    "rate = df['stars']\n",
    "review_content = df['body']"
   ]
  },
  {
   "cell_type": "code",
   "execution_count": 10,
   "id": "71c965b2",
   "metadata": {},
   "outputs": [],
   "source": [
    "import pandas as pd\n",
    "import numpy as np\n",
    "import matplotlib.pyplot as plt\n",
    "import seaborn as sns\n",
    "sns.set_style('white')\n",
    "import nltk\n",
    "from nltk.corpus import stopwords\n",
    "from nltk import ngrams\n",
    "from nltk.tokenize import word_tokenize\n",
    "import wordcloud\n",
    "from wordcloud import WordCloud\n",
    "from nltk.stem import WordNetLemmatizer\n",
    "lemmatizer=WordNetLemmatizer()"
   ]
  },
  {
   "cell_type": "code",
   "execution_count": 11,
   "id": "7aae2513",
   "metadata": {},
   "outputs": [
    {
     "name": "stdout",
     "output_type": "stream",
     "text": [
      "<class 'pandas.core.frame.DataFrame'>\n",
      "RangeIndex: 360 entries, 0 to 359\n",
      "Data columns (total 4 columns):\n",
      " #   Column  Non-Null Count  Dtype \n",
      "---  ------  --------------  ----- \n",
      " 0   stars   360 non-null    object\n",
      " 1   body    357 non-null    object\n",
      " 2   name    360 non-null    object\n",
      " 3   title   360 non-null    object\n",
      "dtypes: object(4)\n",
      "memory usage: 11.4+ KB\n"
     ]
    }
   ],
   "source": [
    "df.info()"
   ]
  },
  {
   "cell_type": "code",
   "execution_count": 12,
   "id": "02fcb8d5",
   "metadata": {},
   "outputs": [
    {
     "data": {
      "text/plain": [
       "5.0    43.611111\n",
       "1.0    18.333333\n",
       "4.0    16.944444\n",
       "3.0    11.388889\n",
       "2.0     9.722222\n",
       "Name: stars, dtype: float64"
      ]
     },
     "execution_count": 12,
     "metadata": {},
     "output_type": "execute_result"
    }
   ],
   "source": [
    "df['stars'].value_counts(normalize=True)*100"
   ]
  },
  {
   "cell_type": "code",
   "execution_count": 13,
   "id": "f2bcab26",
   "metadata": {},
   "outputs": [
    {
     "data": {
      "text/html": [
       "<div>\n",
       "<style scoped>\n",
       "    .dataframe tbody tr th:only-of-type {\n",
       "        vertical-align: middle;\n",
       "    }\n",
       "\n",
       "    .dataframe tbody tr th {\n",
       "        vertical-align: top;\n",
       "    }\n",
       "\n",
       "    .dataframe thead th {\n",
       "        text-align: right;\n",
       "    }\n",
       "</style>\n",
       "<table border=\"1\" class=\"dataframe\">\n",
       "  <thead>\n",
       "    <tr style=\"text-align: right;\">\n",
       "      <th></th>\n",
       "      <th>body</th>\n",
       "      <th>name</th>\n",
       "      <th>title</th>\n",
       "    </tr>\n",
       "    <tr>\n",
       "      <th>stars</th>\n",
       "      <th></th>\n",
       "      <th></th>\n",
       "      <th></th>\n",
       "    </tr>\n",
       "  </thead>\n",
       "  <tbody>\n",
       "    <tr>\n",
       "      <th>1.0</th>\n",
       "      <td>66</td>\n",
       "      <td>66</td>\n",
       "      <td>66</td>\n",
       "    </tr>\n",
       "    <tr>\n",
       "      <th>2.0</th>\n",
       "      <td>35</td>\n",
       "      <td>35</td>\n",
       "      <td>35</td>\n",
       "    </tr>\n",
       "    <tr>\n",
       "      <th>3.0</th>\n",
       "      <td>41</td>\n",
       "      <td>41</td>\n",
       "      <td>41</td>\n",
       "    </tr>\n",
       "    <tr>\n",
       "      <th>4.0</th>\n",
       "      <td>61</td>\n",
       "      <td>61</td>\n",
       "      <td>61</td>\n",
       "    </tr>\n",
       "    <tr>\n",
       "      <th>5.0</th>\n",
       "      <td>154</td>\n",
       "      <td>157</td>\n",
       "      <td>157</td>\n",
       "    </tr>\n",
       "  </tbody>\n",
       "</table>\n",
       "</div>"
      ],
      "text/plain": [
       "       body  name  title\n",
       "stars                   \n",
       "1.0      66    66     66\n",
       "2.0      35    35     35\n",
       "3.0      41    41     41\n",
       "4.0      61    61     61\n",
       "5.0     154   157    157"
      ]
     },
     "execution_count": 13,
     "metadata": {},
     "output_type": "execute_result"
    }
   ],
   "source": [
    "ratings=df.groupby(['stars']).count()\n",
    "ratings"
   ]
  },
  {
   "cell_type": "code",
   "execution_count": 14,
   "id": "14fc7ab2",
   "metadata": {},
   "outputs": [
    {
     "data": {
      "text/plain": [
       "Text(0, 0.5, 'Count')"
      ]
     },
     "execution_count": 14,
     "metadata": {},
     "output_type": "execute_result"
    },
    {
     "data": {
      "image/png": "[encoded data removed]",
      "text/plain": [
       "<Figure size 864x576 with 1 Axes>"
      ]
     },
     "metadata": {},
     "output_type": "display_data"
    }
   ],
   "source": [
    "plt.figure(figsize=(12,8))\n",
    "df['stars'].value_counts().sort_index().plot(kind='bar')\n",
    "plt.title('Distribution of Stars')\n",
    "plt.xlabel('Stars')\n",
    "plt.ylabel('Count')"
   ]
  },
  {
   "cell_type": "code",
   "execution_count": 15,
   "id": "c9aefe01",
   "metadata": {},
   "outputs": [
    {
     "data": {
      "text/plain": [
       "0                                           Bakwas phone\n",
       "1      It is like a normal android..not an OnePlus..L...\n",
       "2      The best part of the phone is it's super simpl...\n",
       "3      Performance is really good - no lags at allPer...\n",
       "4      Phone looks good but features are 10k phoneCam...\n",
       "                             ...                        \n",
       "355    It is slow against what they committed and it ...\n",
       "356    Good Camera but it can be better.Battery doesn...\n",
       "357                                        Good purchase\n",
       "358    Just what you need....Battery is draining a li...\n",
       "359    Good phone for regular usage ( maybe best for ...\n",
       "Name: body, Length: 360, dtype: object"
      ]
     },
     "execution_count": 15,
     "metadata": {},
     "output_type": "execute_result"
    }
   ],
   "source": [
    "review_content"
   ]
  },
  {
   "cell_type": "code",
   "execution_count": 16,
   "id": "b202439f",
   "metadata": {},
   "outputs": [
    {
     "data": {
      "text/html": [
       "<div>\n",
       "<style scoped>\n",
       "    .dataframe tbody tr th:only-of-type {\n",
       "        vertical-align: middle;\n",
       "    }\n",
       "\n",
       "    .dataframe tbody tr th {\n",
       "        vertical-align: top;\n",
       "    }\n",
       "\n",
       "    .dataframe thead th {\n",
       "        text-align: right;\n",
       "    }\n",
       "</style>\n",
       "<table border=\"1\" class=\"dataframe\">\n",
       "  <thead>\n",
       "    <tr style=\"text-align: right;\">\n",
       "      <th></th>\n",
       "      <th>body</th>\n",
       "    </tr>\n",
       "  </thead>\n",
       "  <tbody>\n",
       "    <tr>\n",
       "      <th>0</th>\n",
       "      <td>Bakwas phone</td>\n",
       "    </tr>\n",
       "    <tr>\n",
       "      <th>1</th>\n",
       "      <td>It is like a normal android..not an OnePlus..L...</td>\n",
       "    </tr>\n",
       "    <tr>\n",
       "      <th>2</th>\n",
       "      <td>The best part of the phone is it's super simpl...</td>\n",
       "    </tr>\n",
       "    <tr>\n",
       "      <th>3</th>\n",
       "      <td>Performance is really good - no lags at allPer...</td>\n",
       "    </tr>\n",
       "    <tr>\n",
       "      <th>4</th>\n",
       "      <td>Phone looks good but features are 10k phoneCam...</td>\n",
       "    </tr>\n",
       "    <tr>\n",
       "      <th>...</th>\n",
       "      <td>...</td>\n",
       "    </tr>\n",
       "    <tr>\n",
       "      <th>355</th>\n",
       "      <td>It is slow against what they committed and it ...</td>\n",
       "    </tr>\n",
       "    <tr>\n",
       "      <th>356</th>\n",
       "      <td>Good Camera but it can be better.Battery doesn...</td>\n",
       "    </tr>\n",
       "    <tr>\n",
       "      <th>357</th>\n",
       "      <td>Good purchase</td>\n",
       "    </tr>\n",
       "    <tr>\n",
       "      <th>358</th>\n",
       "      <td>Just what you need....Battery is draining a li...</td>\n",
       "    </tr>\n",
       "    <tr>\n",
       "      <th>359</th>\n",
       "      <td>Good phone for regular usage ( maybe best for ...</td>\n",
       "    </tr>\n",
       "  </tbody>\n",
       "</table>\n",
       "<p>360 rows × 1 columns</p>\n",
       "</div>"
      ],
      "text/plain": [
       "                                                  body\n",
       "0                                         Bakwas phone\n",
       "1    It is like a normal android..not an OnePlus..L...\n",
       "2    The best part of the phone is it's super simpl...\n",
       "3    Performance is really good - no lags at allPer...\n",
       "4    Phone looks good but features are 10k phoneCam...\n",
       "..                                                 ...\n",
       "355  It is slow against what they committed and it ...\n",
       "356  Good Camera but it can be better.Battery doesn...\n",
       "357                                      Good purchase\n",
       "358  Just what you need....Battery is draining a li...\n",
       "359  Good phone for regular usage ( maybe best for ...\n",
       "\n",
       "[360 rows x 1 columns]"
      ]
     },
     "execution_count": 16,
     "metadata": {},
     "output_type": "execute_result"
    }
   ],
   "source": [
    "Reviews=df.iloc[:,[1]]\n",
    "Reviews"
   ]
  },
  {
   "cell_type": "code",
   "execution_count": 17,
   "id": "6a7eb2d4",
   "metadata": {},
   "outputs": [
    {
     "data": {
      "text/plain": [
       "(360, 1)"
      ]
     },
     "execution_count": 17,
     "metadata": {},
     "output_type": "execute_result"
    }
   ],
   "source": [
    "Reviews.shape"
   ]
  },
  {
   "cell_type": "code",
   "execution_count": 18,
   "id": "023942e3",
   "metadata": {},
   "outputs": [
    {
     "data": {
      "text/html": [
       "<div>\n",
       "<style scoped>\n",
       "    .dataframe tbody tr th:only-of-type {\n",
       "        vertical-align: middle;\n",
       "    }\n",
       "\n",
       "    .dataframe tbody tr th {\n",
       "        vertical-align: top;\n",
       "    }\n",
       "\n",
       "    .dataframe thead th {\n",
       "        text-align: right;\n",
       "    }\n",
       "</style>\n",
       "<table border=\"1\" class=\"dataframe\">\n",
       "  <thead>\n",
       "    <tr style=\"text-align: right;\">\n",
       "      <th></th>\n",
       "      <th>body</th>\n",
       "    </tr>\n",
       "  </thead>\n",
       "  <tbody>\n",
       "    <tr>\n",
       "      <th>count</th>\n",
       "      <td>357</td>\n",
       "    </tr>\n",
       "    <tr>\n",
       "      <th>unique</th>\n",
       "      <td>355</td>\n",
       "    </tr>\n",
       "    <tr>\n",
       "      <th>top</th>\n",
       "      <td>Good</td>\n",
       "    </tr>\n",
       "    <tr>\n",
       "      <th>freq</th>\n",
       "      <td>3</td>\n",
       "    </tr>\n",
       "  </tbody>\n",
       "</table>\n",
       "</div>"
      ],
      "text/plain": [
       "        body\n",
       "count    357\n",
       "unique   355\n",
       "top     Good\n",
       "freq       3"
      ]
     },
     "execution_count": 18,
     "metadata": {},
     "output_type": "execute_result"
    }
   ],
   "source": [
    "Reviews.describe()"
   ]
  },
  {
   "cell_type": "code",
   "execution_count": 19,
   "id": "a5700929",
   "metadata": {},
   "outputs": [
    {
     "data": {
      "text/html": [
       "<div>\n",
       "<style scoped>\n",
       "    .dataframe tbody tr th:only-of-type {\n",
       "        vertical-align: middle;\n",
       "    }\n",
       "\n",
       "    .dataframe tbody tr th {\n",
       "        vertical-align: top;\n",
       "    }\n",
       "\n",
       "    .dataframe thead th {\n",
       "        text-align: right;\n",
       "    }\n",
       "</style>\n",
       "<table border=\"1\" class=\"dataframe\">\n",
       "  <thead>\n",
       "    <tr style=\"text-align: right;\">\n",
       "      <th></th>\n",
       "      <th>stars</th>\n",
       "      <th>body</th>\n",
       "    </tr>\n",
       "  </thead>\n",
       "  <tbody>\n",
       "    <tr>\n",
       "      <th>0</th>\n",
       "      <td>1.0</td>\n",
       "      <td>Bakwas phone</td>\n",
       "    </tr>\n",
       "    <tr>\n",
       "      <th>1</th>\n",
       "      <td>1.0</td>\n",
       "      <td>It is like a normal android..not an OnePlus..L...</td>\n",
       "    </tr>\n",
       "    <tr>\n",
       "      <th>2</th>\n",
       "      <td>5.0</td>\n",
       "      <td>The best part of the phone is it's super simpl...</td>\n",
       "    </tr>\n",
       "    <tr>\n",
       "      <th>3</th>\n",
       "      <td>5.0</td>\n",
       "      <td>Performance is really good - no lags at allPer...</td>\n",
       "    </tr>\n",
       "    <tr>\n",
       "      <th>4</th>\n",
       "      <td>1.0</td>\n",
       "      <td>Phone looks good but features are 10k phoneCam...</td>\n",
       "    </tr>\n",
       "  </tbody>\n",
       "</table>\n",
       "</div>"
      ],
      "text/plain": [
       "  stars                                               body\n",
       "0   1.0                                       Bakwas phone\n",
       "1   1.0  It is like a normal android..not an OnePlus..L...\n",
       "2   5.0  The best part of the phone is it's super simpl...\n",
       "3   5.0  Performance is really good - no lags at allPer...\n",
       "4   1.0  Phone looks good but features are 10k phoneCam..."
      ]
     },
     "execution_count": 19,
     "metadata": {},
     "output_type": "execute_result"
    }
   ],
   "source": [
    "# removing customer name and reviw title column as they have not that significance in output##\n",
    "df.drop([\"name\",\"title\"],axis=1,inplace=True)\n",
    "df.head()"
   ]
  },
  {
   "cell_type": "code",
   "execution_count": 20,
   "id": "b0978705",
   "metadata": {},
   "outputs": [
    {
     "data": {
      "text/plain": [
       "3"
      ]
     },
     "execution_count": 20,
     "metadata": {},
     "output_type": "execute_result"
    }
   ],
   "source": [
    "df.body.isna().sum()"
   ]
  },
  {
   "cell_type": "code",
   "execution_count": 21,
   "id": "31e08577",
   "metadata": {},
   "outputs": [],
   "source": [
    "df['body']=df['body'].fillna(\" \")"
   ]
  },
  {
   "cell_type": "code",
   "execution_count": 22,
   "id": "d5e83dfe",
   "metadata": {},
   "outputs": [
    {
     "data": {
      "text/plain": [
       "0"
      ]
     },
     "execution_count": 22,
     "metadata": {},
     "output_type": "execute_result"
    }
   ],
   "source": [
    "df.body.isna().sum()"
   ]
  },
  {
   "cell_type": "markdown",
   "id": "ed352458",
   "metadata": {},
   "source": [
    "#### Preprocessing"
   ]
  },
  {
   "cell_type": "code",
   "execution_count": 23,
   "id": "cd0d9534",
   "metadata": {},
   "outputs": [],
   "source": [
    "##Converting all review into Lowercase..###\n",
    "\n",
    "df['body']= df['body'].apply(lambda x: \" \".join(word.lower() for word in x.split()))"
   ]
  },
  {
   "cell_type": "code",
   "execution_count": 24,
   "id": "84ab9264",
   "metadata": {},
   "outputs": [],
   "source": [
    "## removing punctuation from review..#\n",
    "import string\n",
    "df['body']=df['body'].apply(lambda x:''.join([i for i in x  if i not in string.punctuation]))"
   ]
  },
  {
   "cell_type": "code",
   "execution_count": 25,
   "id": "a64d3e71",
   "metadata": {},
   "outputs": [
    {
     "name": "stderr",
     "output_type": "stream",
     "text": [
      "<ipython-input-25-d61ececf56cb>:2: FutureWarning: The default value of regex will change from True to False in a future version.\n",
      "  df['body']=df['body'].str.replace('[0-9]','')\n"
     ]
    }
   ],
   "source": [
    "## Remove Numbers from review...##\n",
    "df['body']=df['body'].str.replace('[0-9]','')"
   ]
  },
  {
   "cell_type": "code",
   "execution_count": 26,
   "id": "d34bad92",
   "metadata": {},
   "outputs": [],
   "source": [
    "## removing all stopwords(english)....###\n",
    "from nltk.corpus import stopwords\n",
    "stop_words=stopwords.words('english')\n",
    "df['body']=df['body'].apply(lambda x: \" \".join(word for word in x.split() if word not in stop_words))"
   ]
  },
  {
   "cell_type": "code",
   "execution_count": 27,
   "id": "5d7b77f5",
   "metadata": {},
   "outputs": [
    {
     "data": {
      "text/html": [
       "<div>\n",
       "<style scoped>\n",
       "    .dataframe tbody tr th:only-of-type {\n",
       "        vertical-align: middle;\n",
       "    }\n",
       "\n",
       "    .dataframe tbody tr th {\n",
       "        vertical-align: top;\n",
       "    }\n",
       "\n",
       "    .dataframe thead th {\n",
       "        text-align: right;\n",
       "    }\n",
       "</style>\n",
       "<table border=\"1\" class=\"dataframe\">\n",
       "  <thead>\n",
       "    <tr style=\"text-align: right;\">\n",
       "      <th></th>\n",
       "      <th>stars</th>\n",
       "      <th>body</th>\n",
       "    </tr>\n",
       "  </thead>\n",
       "  <tbody>\n",
       "    <tr>\n",
       "      <th>0</th>\n",
       "      <td>1.0</td>\n",
       "      <td>bakwas phone</td>\n",
       "    </tr>\n",
       "    <tr>\n",
       "      <th>1</th>\n",
       "      <td>1.0</td>\n",
       "      <td>like normal androidnot onepluslow processing e...</td>\n",
       "    </tr>\n",
       "    <tr>\n",
       "      <th>2</th>\n",
       "      <td>5.0</td>\n",
       "      <td>best part phone super simple user friendly ope...</td>\n",
       "    </tr>\n",
       "    <tr>\n",
       "      <th>3</th>\n",
       "      <td>5.0</td>\n",
       "      <td>performance really good lags allperfectly smoo...</td>\n",
       "    </tr>\n",
       "    <tr>\n",
       "      <th>4</th>\n",
       "      <td>1.0</td>\n",
       "      <td>phone looks good features k phonecamera worstp...</td>\n",
       "    </tr>\n",
       "  </tbody>\n",
       "</table>\n",
       "</div>"
      ],
      "text/plain": [
       "  stars                                               body\n",
       "0   1.0                                       bakwas phone\n",
       "1   1.0  like normal androidnot onepluslow processing e...\n",
       "2   5.0  best part phone super simple user friendly ope...\n",
       "3   5.0  performance really good lags allperfectly smoo...\n",
       "4   1.0  phone looks good features k phonecamera worstp..."
      ]
     },
     "execution_count": 27,
     "metadata": {},
     "output_type": "execute_result"
    }
   ],
   "source": [
    "df.head(5)"
   ]
  },
  {
   "cell_type": "markdown",
   "id": "7fdf2c9e",
   "metadata": {},
   "source": [
    "#### Product Sentiment Values"
   ]
  },
  {
   "cell_type": "code",
   "execution_count": 28,
   "id": "8f048cec",
   "metadata": {},
   "outputs": [
    {
     "name": "stderr",
     "output_type": "stream",
     "text": [
      "[nltk_data] Downloading package vader_lexicon to\n",
      "[nltk_data]     C:\\Users\\Vrushabh\\AppData\\Roaming\\nltk_data...\n",
      "[nltk_data]   Package vader_lexicon is already up-to-date!\n"
     ]
    },
    {
     "data": {
      "text/plain": [
       "True"
      ]
     },
     "execution_count": 28,
     "metadata": {},
     "output_type": "execute_result"
    }
   ],
   "source": [
    "import nltk\n",
    "nltk.download('vader_lexicon')"
   ]
  },
  {
   "cell_type": "code",
   "execution_count": 29,
   "id": "767b43bf",
   "metadata": {},
   "outputs": [],
   "source": [
    "from nltk.sentiment.vader import SentimentIntensityAnalyzer\n",
    "senti = SentimentIntensityAnalyzer()"
   ]
  },
  {
   "cell_type": "code",
   "execution_count": 31,
   "id": "ad9d9059",
   "metadata": {},
   "outputs": [],
   "source": [
    "#Function to retrieve sentiment class\n",
    "def get_senti_class(review): \n",
    "    analysis = senti.polarity_scores(review)\n",
    "    # set sentiment \n",
    "    if analysis[\"compound\"] > 0: \n",
    "        return 'positive'\n",
    "    elif analysis[\"compound\"] < 0: \n",
    "        return 'negative'\n",
    "    else: \n",
    "        return 'neutral'\n",
    "    \n",
    "def get_sentiment(review):\n",
    "    return pd.Series([senti.polarity_scores(review),get_senti_class(review)])"
   ]
  },
  {
   "cell_type": "code",
   "execution_count": 32,
   "id": "40153994",
   "metadata": {},
   "outputs": [
    {
     "data": {
      "text/html": [
       "<div>\n",
       "<style scoped>\n",
       "    .dataframe tbody tr th:only-of-type {\n",
       "        vertical-align: middle;\n",
       "    }\n",
       "\n",
       "    .dataframe tbody tr th {\n",
       "        vertical-align: top;\n",
       "    }\n",
       "\n",
       "    .dataframe thead th {\n",
       "        text-align: right;\n",
       "    }\n",
       "</style>\n",
       "<table border=\"1\" class=\"dataframe\">\n",
       "  <thead>\n",
       "    <tr style=\"text-align: right;\">\n",
       "      <th></th>\n",
       "      <th>stars</th>\n",
       "      <th>body</th>\n",
       "      <th>Scores</th>\n",
       "      <th>Sentiment</th>\n",
       "    </tr>\n",
       "  </thead>\n",
       "  <tbody>\n",
       "    <tr>\n",
       "      <th>0</th>\n",
       "      <td>1.0</td>\n",
       "      <td>bakwas phone</td>\n",
       "      <td>{'neg': 0.0, 'neu': 1.0, 'pos': 0.0, 'compound...</td>\n",
       "      <td>neutral</td>\n",
       "    </tr>\n",
       "    <tr>\n",
       "      <th>1</th>\n",
       "      <td>1.0</td>\n",
       "      <td>like normal androidnot onepluslow processing e...</td>\n",
       "      <td>{'neg': 0.19, 'neu': 0.724, 'pos': 0.086, 'com...</td>\n",
       "      <td>negative</td>\n",
       "    </tr>\n",
       "    <tr>\n",
       "      <th>2</th>\n",
       "      <td>5.0</td>\n",
       "      <td>best part phone super simple user friendly ope...</td>\n",
       "      <td>{'neg': 0.082, 'neu': 0.496, 'pos': 0.422, 'co...</td>\n",
       "      <td>positive</td>\n",
       "    </tr>\n",
       "    <tr>\n",
       "      <th>3</th>\n",
       "      <td>5.0</td>\n",
       "      <td>performance really good lags allperfectly smoo...</td>\n",
       "      <td>{'neg': 0.036, 'neu': 0.646, 'pos': 0.319, 'co...</td>\n",
       "      <td>positive</td>\n",
       "    </tr>\n",
       "    <tr>\n",
       "      <th>4</th>\n",
       "      <td>1.0</td>\n",
       "      <td>phone looks good features k phonecamera worstp...</td>\n",
       "      <td>{'neg': 0.0, 'neu': 0.533, 'pos': 0.467, 'comp...</td>\n",
       "      <td>positive</td>\n",
       "    </tr>\n",
       "    <tr>\n",
       "      <th>...</th>\n",
       "      <td>...</td>\n",
       "      <td>...</td>\n",
       "      <td>...</td>\n",
       "      <td>...</td>\n",
       "    </tr>\n",
       "    <tr>\n",
       "      <th>355</th>\n",
       "      <td>1.0</td>\n",
       "      <td>slow committed hanging quite often data</td>\n",
       "      <td>{'neg': 0.0, 'neu': 0.704, 'pos': 0.296, 'comp...</td>\n",
       "      <td>positive</td>\n",
       "    </tr>\n",
       "    <tr>\n",
       "      <th>356</th>\n",
       "      <td>3.0</td>\n",
       "      <td>good camera betterbattery doesnt last long cha...</td>\n",
       "      <td>{'neg': 0.104, 'neu': 0.57, 'pos': 0.326, 'com...</td>\n",
       "      <td>positive</td>\n",
       "    </tr>\n",
       "    <tr>\n",
       "      <th>357</th>\n",
       "      <td>4.0</td>\n",
       "      <td>good purchase</td>\n",
       "      <td>{'neg': 0.0, 'neu': 0.256, 'pos': 0.744, 'comp...</td>\n",
       "      <td>positive</td>\n",
       "    </tr>\n",
       "    <tr>\n",
       "      <th>358</th>\n",
       "      <td>4.0</td>\n",
       "      <td>needbattery draining little bit fast waiting u...</td>\n",
       "      <td>{'neg': 0.0, 'neu': 1.0, 'pos': 0.0, 'compound...</td>\n",
       "      <td>neutral</td>\n",
       "    </tr>\n",
       "    <tr>\n",
       "      <th>359</th>\n",
       "      <td>3.0</td>\n",
       "      <td>good phone regular usage maybe best parents he...</td>\n",
       "      <td>{'neg': 0.124, 'neu': 0.478, 'pos': 0.398, 'co...</td>\n",
       "      <td>positive</td>\n",
       "    </tr>\n",
       "  </tbody>\n",
       "</table>\n",
       "<p>360 rows × 4 columns</p>\n",
       "</div>"
      ],
      "text/plain": [
       "    stars                                               body  \\\n",
       "0     1.0                                       bakwas phone   \n",
       "1     1.0  like normal androidnot onepluslow processing e...   \n",
       "2     5.0  best part phone super simple user friendly ope...   \n",
       "3     5.0  performance really good lags allperfectly smoo...   \n",
       "4     1.0  phone looks good features k phonecamera worstp...   \n",
       "..    ...                                                ...   \n",
       "355   1.0            slow committed hanging quite often data   \n",
       "356   3.0  good camera betterbattery doesnt last long cha...   \n",
       "357   4.0                                      good purchase   \n",
       "358   4.0  needbattery draining little bit fast waiting u...   \n",
       "359   3.0  good phone regular usage maybe best parents he...   \n",
       "\n",
       "                                                Scores Sentiment  \n",
       "0    {'neg': 0.0, 'neu': 1.0, 'pos': 0.0, 'compound...   neutral  \n",
       "1    {'neg': 0.19, 'neu': 0.724, 'pos': 0.086, 'com...  negative  \n",
       "2    {'neg': 0.082, 'neu': 0.496, 'pos': 0.422, 'co...  positive  \n",
       "3    {'neg': 0.036, 'neu': 0.646, 'pos': 0.319, 'co...  positive  \n",
       "4    {'neg': 0.0, 'neu': 0.533, 'pos': 0.467, 'comp...  positive  \n",
       "..                                                 ...       ...  \n",
       "355  {'neg': 0.0, 'neu': 0.704, 'pos': 0.296, 'comp...  positive  \n",
       "356  {'neg': 0.104, 'neu': 0.57, 'pos': 0.326, 'com...  positive  \n",
       "357  {'neg': 0.0, 'neu': 0.256, 'pos': 0.744, 'comp...  positive  \n",
       "358  {'neg': 0.0, 'neu': 1.0, 'pos': 0.0, 'compound...   neutral  \n",
       "359  {'neg': 0.124, 'neu': 0.478, 'pos': 0.398, 'co...  positive  \n",
       "\n",
       "[360 rows x 4 columns]"
      ]
     },
     "execution_count": 32,
     "metadata": {},
     "output_type": "execute_result"
    }
   ],
   "source": [
    "#Applying function to all tweets\n",
    "df[[\"Scores\", \"Sentiment\"]] = df.body.apply(get_sentiment)\n",
    "df"
   ]
  },
  {
   "cell_type": "code",
   "execution_count": 33,
   "id": "a7bbecb9",
   "metadata": {},
   "outputs": [],
   "source": [
    "from sklearn import preprocessing\n",
    "from sklearn.preprocessing import LabelEncoder"
   ]
  },
  {
   "cell_type": "code",
   "execution_count": 34,
   "id": "ece88fa3",
   "metadata": {},
   "outputs": [],
   "source": [
    "le=preprocessing.LabelEncoder()"
   ]
  },
  {
   "cell_type": "code",
   "execution_count": 35,
   "id": "b52e0f32",
   "metadata": {},
   "outputs": [],
   "source": [
    "df['Sentiment']=le.fit_transform(df['Sentiment'])"
   ]
  },
  {
   "cell_type": "code",
   "execution_count": 36,
   "id": "16fc9916",
   "metadata": {},
   "outputs": [
    {
     "data": {
      "text/html": [
       "<div>\n",
       "<style scoped>\n",
       "    .dataframe tbody tr th:only-of-type {\n",
       "        vertical-align: middle;\n",
       "    }\n",
       "\n",
       "    .dataframe tbody tr th {\n",
       "        vertical-align: top;\n",
       "    }\n",
       "\n",
       "    .dataframe thead th {\n",
       "        text-align: right;\n",
       "    }\n",
       "</style>\n",
       "<table border=\"1\" class=\"dataframe\">\n",
       "  <thead>\n",
       "    <tr style=\"text-align: right;\">\n",
       "      <th></th>\n",
       "      <th>stars</th>\n",
       "      <th>body</th>\n",
       "      <th>Scores</th>\n",
       "      <th>Sentiment</th>\n",
       "    </tr>\n",
       "  </thead>\n",
       "  <tbody>\n",
       "    <tr>\n",
       "      <th>0</th>\n",
       "      <td>1.0</td>\n",
       "      <td>bakwas phone</td>\n",
       "      <td>{'neg': 0.0, 'neu': 1.0, 'pos': 0.0, 'compound...</td>\n",
       "      <td>1</td>\n",
       "    </tr>\n",
       "    <tr>\n",
       "      <th>1</th>\n",
       "      <td>1.0</td>\n",
       "      <td>like normal androidnot onepluslow processing e...</td>\n",
       "      <td>{'neg': 0.19, 'neu': 0.724, 'pos': 0.086, 'com...</td>\n",
       "      <td>0</td>\n",
       "    </tr>\n",
       "    <tr>\n",
       "      <th>2</th>\n",
       "      <td>5.0</td>\n",
       "      <td>best part phone super simple user friendly ope...</td>\n",
       "      <td>{'neg': 0.082, 'neu': 0.496, 'pos': 0.422, 'co...</td>\n",
       "      <td>2</td>\n",
       "    </tr>\n",
       "    <tr>\n",
       "      <th>3</th>\n",
       "      <td>5.0</td>\n",
       "      <td>performance really good lags allperfectly smoo...</td>\n",
       "      <td>{'neg': 0.036, 'neu': 0.646, 'pos': 0.319, 'co...</td>\n",
       "      <td>2</td>\n",
       "    </tr>\n",
       "    <tr>\n",
       "      <th>4</th>\n",
       "      <td>1.0</td>\n",
       "      <td>phone looks good features k phonecamera worstp...</td>\n",
       "      <td>{'neg': 0.0, 'neu': 0.533, 'pos': 0.467, 'comp...</td>\n",
       "      <td>2</td>\n",
       "    </tr>\n",
       "    <tr>\n",
       "      <th>5</th>\n",
       "      <td>5.0</td>\n",
       "      <td>first impression overwhelming major upgrade la...</td>\n",
       "      <td>{'neg': 0.0, 'neu': 0.664, 'pos': 0.336, 'comp...</td>\n",
       "      <td>2</td>\n",
       "    </tr>\n",
       "    <tr>\n",
       "      <th>6</th>\n",
       "      <td>5.0</td>\n",
       "      <td>awesome phone amazing camera better nord black...</td>\n",
       "      <td>{'neg': 0.0, 'neu': 0.375, 'pos': 0.625, 'comp...</td>\n",
       "      <td>2</td>\n",
       "    </tr>\n",
       "    <tr>\n",
       "      <th>7</th>\n",
       "      <td>5.0</td>\n",
       "      <td>awesome phone pricecamera features good previo...</td>\n",
       "      <td>{'neg': 0.0, 'neu': 0.582, 'pos': 0.418, 'comp...</td>\n",
       "      <td>2</td>\n",
       "    </tr>\n",
       "    <tr>\n",
       "      <th>8</th>\n",
       "      <td>5.0</td>\n",
       "      <td>far good omission alert slider baffling everyt...</td>\n",
       "      <td>{'neg': 0.0, 'neu': 0.546, 'pos': 0.454, 'comp...</td>\n",
       "      <td>2</td>\n",
       "    </tr>\n",
       "    <tr>\n",
       "      <th>9</th>\n",
       "      <td>5.0</td>\n",
       "      <td>great phone</td>\n",
       "      <td>{'neg': 0.0, 'neu': 0.196, 'pos': 0.804, 'comp...</td>\n",
       "      <td>2</td>\n",
       "    </tr>\n",
       "  </tbody>\n",
       "</table>\n",
       "</div>"
      ],
      "text/plain": [
       "  stars                                               body  \\\n",
       "0   1.0                                       bakwas phone   \n",
       "1   1.0  like normal androidnot onepluslow processing e...   \n",
       "2   5.0  best part phone super simple user friendly ope...   \n",
       "3   5.0  performance really good lags allperfectly smoo...   \n",
       "4   1.0  phone looks good features k phonecamera worstp...   \n",
       "5   5.0  first impression overwhelming major upgrade la...   \n",
       "6   5.0  awesome phone amazing camera better nord black...   \n",
       "7   5.0  awesome phone pricecamera features good previo...   \n",
       "8   5.0  far good omission alert slider baffling everyt...   \n",
       "9   5.0                                        great phone   \n",
       "\n",
       "                                              Scores  Sentiment  \n",
       "0  {'neg': 0.0, 'neu': 1.0, 'pos': 0.0, 'compound...          1  \n",
       "1  {'neg': 0.19, 'neu': 0.724, 'pos': 0.086, 'com...          0  \n",
       "2  {'neg': 0.082, 'neu': 0.496, 'pos': 0.422, 'co...          2  \n",
       "3  {'neg': 0.036, 'neu': 0.646, 'pos': 0.319, 'co...          2  \n",
       "4  {'neg': 0.0, 'neu': 0.533, 'pos': 0.467, 'comp...          2  \n",
       "5  {'neg': 0.0, 'neu': 0.664, 'pos': 0.336, 'comp...          2  \n",
       "6  {'neg': 0.0, 'neu': 0.375, 'pos': 0.625, 'comp...          2  \n",
       "7  {'neg': 0.0, 'neu': 0.582, 'pos': 0.418, 'comp...          2  \n",
       "8  {'neg': 0.0, 'neu': 0.546, 'pos': 0.454, 'comp...          2  \n",
       "9  {'neg': 0.0, 'neu': 0.196, 'pos': 0.804, 'comp...          2  "
      ]
     },
     "execution_count": 36,
     "metadata": {},
     "output_type": "execute_result"
    }
   ],
   "source": [
    "df.head(10)"
   ]
  },
  {
   "cell_type": "code",
   "execution_count": 37,
   "id": "77511ca7",
   "metadata": {},
   "outputs": [
    {
     "data": {
      "text/plain": [
       "<AxesSubplot:xlabel='stars', ylabel='count'>"
      ]
     },
     "execution_count": 37,
     "metadata": {},
     "output_type": "execute_result"
    },
    {
     "data": {
      "image/png": "[encoded data removed]",
      "text/plain": [
       "<Figure size 432x288 with 1 Axes>"
      ]
     },
     "metadata": {},
     "output_type": "display_data"
    }
   ],
   "source": [
    "sns.set_style('whitegrid')\n",
    "sns.countplot(x='stars',data=df,palette='YlGnBu_r')"
   ]
  },
  {
   "cell_type": "code",
   "execution_count": 38,
   "id": "b35fdd37",
   "metadata": {},
   "outputs": [
    {
     "data": {
      "text/plain": [
       "<AxesSubplot:xlabel='Sentiment', ylabel='count'>"
      ]
     },
     "execution_count": 38,
     "metadata": {},
     "output_type": "execute_result"
    },
    {
     "data": {
      "image/png": "[encoded data removed]",
      "text/plain": [
       "<Figure size 432x288 with 1 Axes>"
      ]
     },
     "metadata": {},
     "output_type": "display_data"
    }
   ],
   "source": [
    "sns.set_style('whitegrid')\n",
    "sns.countplot(x='Sentiment',data=df,palette='YlGnBu_r')"
   ]
  },
  {
   "cell_type": "code",
   "execution_count": 39,
   "id": "694a8bc2",
   "metadata": {},
   "outputs": [
    {
     "data": {
      "text/plain": [
       "1.6"
      ]
     },
     "execution_count": 39,
     "metadata": {},
     "output_type": "execute_result"
    }
   ],
   "source": [
    "df['Sentiment'].mean()"
   ]
  },
  {
   "cell_type": "code",
   "execution_count": 40,
   "id": "c3628ede",
   "metadata": {},
   "outputs": [],
   "source": [
    "from sklearn.model_selection import train_test_split\n",
    "\n",
    "X_train,X_test,y_train,y_test=train_test_split(df['body'],df['Sentiment'],random_state=0)"
   ]
  },
  {
   "cell_type": "code",
   "execution_count": 41,
   "id": "908fc230",
   "metadata": {},
   "outputs": [
    {
     "data": {
      "text/plain": [
       "((270,), (90,), (270,), (90,))"
      ]
     },
     "execution_count": 41,
     "metadata": {},
     "output_type": "execute_result"
    }
   ],
   "source": [
    "X_train.shape,X_test.shape,y_train.shape,y_test.shape"
   ]
  },
  {
   "cell_type": "markdown",
   "id": "6b5d16ee",
   "metadata": {},
   "source": [
    "### BOW"
   ]
  },
  {
   "cell_type": "code",
   "execution_count": 42,
   "id": "0144024a",
   "metadata": {},
   "outputs": [],
   "source": [
    "from sklearn.feature_extraction.text import CountVectorizer\n",
    "vect=CountVectorizer().fit(X_train)"
   ]
  },
  {
   "cell_type": "code",
   "execution_count": 43,
   "id": "d758f6e0",
   "metadata": {},
   "outputs": [
    {
     "data": {
      "text/plain": [
       "['aata',\n",
       " 'artificial',\n",
       " 'biting',\n",
       " 'captured',\n",
       " 'come',\n",
       " 'dayi',\n",
       " 'dosent',\n",
       " 'exciting',\n",
       " 'fingers',\n",
       " 'good',\n",
       " 'hipe',\n",
       " 'issuepremium',\n",
       " 'lightweight',\n",
       " 'melast',\n",
       " 'needsfront',\n",
       " 'opened',\n",
       " 'perform',\n",
       " 'posted',\n",
       " 'qualitylack',\n",
       " 'responding',\n",
       " 'share',\n",
       " 'speeds',\n",
       " 'terrific',\n",
       " 'uibut',\n",
       " 'wake',\n",
       " 'youtube']"
      ]
     },
     "execution_count": 43,
     "metadata": {},
     "output_type": "execute_result"
    }
   ],
   "source": [
    "vect.get_feature_names()[::100]"
   ]
  },
  {
   "cell_type": "code",
   "execution_count": 44,
   "id": "c896b1dc",
   "metadata": {},
   "outputs": [
    {
     "data": {
      "text/plain": [
       "2506"
      ]
     },
     "execution_count": 44,
     "metadata": {},
     "output_type": "execute_result"
    }
   ],
   "source": [
    "len(vect.get_feature_names())"
   ]
  },
  {
   "cell_type": "code",
   "execution_count": 45,
   "id": "c26f2c14",
   "metadata": {},
   "outputs": [
    {
     "name": "stdout",
     "output_type": "stream",
     "text": [
      "  (0, 36)\t2\n",
      "  (0, 185)\t1\n",
      "  (0, 217)\t1\n",
      "  (0, 270)\t1\n",
      "  (0, 274)\t2\n",
      "  (0, 277)\t1\n",
      "  (0, 286)\t2\n",
      "  (0, 294)\t1\n",
      "  (0, 317)\t3\n",
      "  (0, 335)\t1\n",
      "  (0, 385)\t1\n",
      "  (0, 437)\t1\n",
      "  (0, 459)\t1\n",
      "  (0, 599)\t2\n",
      "  (0, 648)\t1\n",
      "  (0, 680)\t1\n",
      "  (0, 847)\t1\n",
      "  (0, 984)\t1\n",
      "  (0, 1181)\t1\n",
      "  (0, 1186)\t1\n",
      "  (0, 1197)\t1\n",
      "  (0, 1199)\t1\n",
      "  (0, 1202)\t1\n",
      "  (0, 1258)\t1\n",
      "  (0, 1297)\t1\n",
      "  :\t:\n",
      "  (268, 1968)\t1\n",
      "  (268, 2028)\t1\n",
      "  (268, 2044)\t1\n",
      "  (268, 2357)\t1\n",
      "  (268, 2427)\t1\n",
      "  (268, 2472)\t1\n",
      "  (269, 54)\t1\n",
      "  (269, 127)\t1\n",
      "  (269, 286)\t1\n",
      "  (269, 354)\t1\n",
      "  (269, 462)\t1\n",
      "  (269, 799)\t1\n",
      "  (269, 892)\t1\n",
      "  (269, 916)\t1\n",
      "  (269, 1202)\t2\n",
      "  (269, 1309)\t1\n",
      "  (269, 1435)\t1\n",
      "  (269, 1601)\t1\n",
      "  (269, 1614)\t1\n",
      "  (269, 1662)\t1\n",
      "  (269, 1835)\t1\n",
      "  (269, 1950)\t1\n",
      "  (269, 1985)\t1\n",
      "  (269, 2048)\t1\n",
      "  (269, 2102)\t1\n"
     ]
    }
   ],
   "source": [
    "X_train_vectorized=vect.transform(X_train)\n",
    "print(X_train_vectorized)"
   ]
  },
  {
   "cell_type": "code",
   "execution_count": 46,
   "id": "c65700e7",
   "metadata": {},
   "outputs": [
    {
     "data": {
      "text/plain": [
       "LogisticRegression(multi_class='ovr', solver='liblinear')"
      ]
     },
     "execution_count": 46,
     "metadata": {},
     "output_type": "execute_result"
    }
   ],
   "source": [
    "from sklearn import linear_model\n",
    "from sklearn.linear_model import LogisticRegression\n",
    "model=linear_model.LogisticRegression(multi_class='ovr', solver='liblinear')\n",
    "model.fit(X_train_vectorized,y_train)"
   ]
  },
  {
   "cell_type": "code",
   "execution_count": 47,
   "id": "c51b6ec8",
   "metadata": {},
   "outputs": [
    {
     "name": "stdout",
     "output_type": "stream",
     "text": [
      "Accuracy: 0.8333333333333334\n"
     ]
    }
   ],
   "source": [
    "from sklearn.metrics import accuracy_score\n",
    "predictions=model.predict(vect.transform(X_test))\n",
    "print('Accuracy:',accuracy_score(y_test,predictions))"
   ]
  },
  {
   "cell_type": "code",
   "execution_count": 48,
   "id": "8a8f1d6d",
   "metadata": {},
   "outputs": [
    {
     "name": "stdout",
     "output_type": "stream",
     "text": [
      "Smallest coefs:\n",
      "['good' 'best' 'light' 'excellent' 'smooth' 'great' 'worth' 'weight'\n",
      " 'nice' 'product']\n",
      "Largest coefs:\n",
      "['disappointed' 'waste' 'killer' 'bad' 'poor' 'worst' 'return' 'range'\n",
      " 'take' 'nothing']\n"
     ]
    }
   ],
   "source": [
    "#smallest coefs are words in neagative reviews and largest coefs are words in positive reviews\n",
    "feature_names=np.array(vect.get_feature_names())\n",
    "sorted_coef_index=model.coef_[0].argsort()\n",
    "print('Smallest coefs:\\n{}'.format(feature_names[sorted_coef_index[:10]]))\n",
    "print('Largest coefs:\\n{}'.format(feature_names[sorted_coef_index[:-11:-1]]))"
   ]
  },
  {
   "cell_type": "markdown",
   "id": "270058f2",
   "metadata": {},
   "source": [
    "### Tf-idf"
   ]
  },
  {
   "cell_type": "code",
   "execution_count": 49,
   "id": "4c043b77",
   "metadata": {},
   "outputs": [
    {
     "data": {
      "text/plain": [
       "947"
      ]
     },
     "execution_count": 49,
     "metadata": {},
     "output_type": "execute_result"
    }
   ],
   "source": [
    "from sklearn.feature_extraction.text import TfidfVectorizer\n",
    "vect=TfidfVectorizer(min_df=2).fit(X_train)\n",
    "len(vect.get_feature_names())"
   ]
  },
  {
   "cell_type": "code",
   "execution_count": 50,
   "id": "303abaea",
   "metadata": {},
   "outputs": [],
   "source": [
    "#featured with high tfidf are highly used in particular review"
   ]
  },
  {
   "cell_type": "code",
   "execution_count": 51,
   "id": "3a5322da",
   "metadata": {},
   "outputs": [
    {
     "name": "stdout",
     "output_type": "stream",
     "text": [
      "Accuracy score :  0.7888888888888889\n"
     ]
    }
   ],
   "source": [
    "X_train_vectorized=vect.transform(X_train)\n",
    "from sklearn.linear_model import LogisticRegression\n",
    "model=LogisticRegression(multi_class='ovr', solver='liblinear')\n",
    "model.fit(X_train_vectorized,y_train)\n",
    "predictions=model.predict(vect.transform(X_test))\n",
    "print('Accuracy score : ',accuracy_score(y_test,predictions))"
   ]
  },
  {
   "cell_type": "code",
   "execution_count": 52,
   "id": "88e766a9",
   "metadata": {},
   "outputs": [
    {
     "name": "stdout",
     "output_type": "stream",
     "text": [
      "Smallest coefs:\n",
      "['good' 'best' 'light' 'great' 'excellent' 'nice' 'smooth' 'weight'\n",
      " 'awesome' 'os']\n",
      "Largest coefs:\n",
      "['waste' 'disappointed' 'oneplus' 'poor' 'return' 'worst' 'bad' 'killer'\n",
      " 'take' 'range']\n"
     ]
    }
   ],
   "source": [
    "feature_names=np.array(vect.get_feature_names())\n",
    "sorted_coef_index=model.coef_[0].argsort()\n",
    "print('Smallest coefs:\\n{}'.format(feature_names[sorted_coef_index[:10]]))\n",
    "print('Largest coefs:\\n{}'.format(feature_names[sorted_coef_index[:-11:-1]]))"
   ]
  },
  {
   "cell_type": "markdown",
   "id": "9a70eac2",
   "metadata": {},
   "source": [
    "### n-grams"
   ]
  },
  {
   "cell_type": "code",
   "execution_count": 53,
   "id": "0ba3a688",
   "metadata": {},
   "outputs": [
    {
     "data": {
      "text/plain": [
       "[WordList(['like', 'normal']),\n",
       " WordList(['normal', 'androidnot']),\n",
       " WordList(['androidnot', 'onepluslow']),\n",
       " WordList(['onepluslow', 'processing']),\n",
       " WordList(['processing', 'exceptional']),\n",
       " WordList(['exceptional', 'features']),\n",
       " WordList(['features', 'oneplus']),\n",
       " WordList(['oneplus', 'phonetook']),\n",
       " WordList(['phonetook', 'long']),\n",
       " WordList(['long', 'time']),\n",
       " WordList(['time', 'delete']),\n",
       " WordList(['delete', 'itemsbattery']),\n",
       " WordList(['itemsbattery', 'draining']),\n",
       " WordList(['draining', 'fastcharging']),\n",
       " WordList(['fastcharging', 'fast']),\n",
       " WordList(['fast', 'claimedearlier']),\n",
       " WordList(['claimedearlier', 'using']),\n",
       " WordList(['using', 'oneplus']),\n",
       " WordList(['oneplus', 'ti']),\n",
       " WordList(['ti', 'bought']),\n",
       " WordList(['bought', 'upgrade']),\n",
       " WordList(['upgrade', 'unfortunately']),\n",
       " WordList(['unfortunately', 'degrades'])]"
      ]
     },
     "execution_count": 53,
     "metadata": {},
     "output_type": "execute_result"
    }
   ],
   "source": [
    "from textblob import TextBlob\n",
    "TextBlob(df['body'][1]).ngrams(2)"
   ]
  },
  {
   "cell_type": "code",
   "execution_count": 62,
   "id": "426d1e47",
   "metadata": {},
   "outputs": [
    {
     "data": {
      "text/plain": [
       "855"
      ]
     },
     "execution_count": 62,
     "metadata": {},
     "output_type": "execute_result"
    }
   ],
   "source": [
    "vect=CountVectorizer(min_df=3, ngram_range=(1,2)).fit(X_train)\n",
    "X_train_vectorized=vect.transform(X_train)\n",
    "len(vect.get_feature_names())"
   ]
  },
  {
   "cell_type": "code",
   "execution_count": 55,
   "id": "539bc6fa",
   "metadata": {},
   "outputs": [
    {
     "name": "stdout",
     "output_type": "stream",
     "text": [
      "Accuracy score :  0.8111111111111111\n"
     ]
    }
   ],
   "source": [
    "model=LogisticRegression()\n",
    "model.fit(X_train_vectorized,y_train)\n",
    "predictions=model.predict(vect.transform(X_test))\n",
    "print('Accuracy score : ',accuracy_score(y_test,predictions))"
   ]
  },
  {
   "cell_type": "markdown",
   "id": "c400f86c",
   "metadata": {},
   "source": [
    "----"
   ]
  },
  {
   "cell_type": "code",
   "execution_count": null,
   "id": "d96d219b",
   "metadata": {},
   "outputs": [],
   "source": []
  }
 ],
 "metadata": {
  "kernelspec": {
   "display_name": "Python 3",
   "language": "python",
   "name": "python3"
  },
  "language_info": {
   "codemirror_mode": {
    "name": "ipython",
    "version": 3
   },
   "file_extension": ".py",
   "mimetype": "text/x-python",
   "name": "python",
   "nbconvert_exporter": "python",
   "pygments_lexer": "ipython3",
   "version": "3.8.8"
  },
  "varInspector": {
   "cols": {
    "lenName": 16,
    "lenType": 16,
    "lenVar": 40
   },
   "kernels_config": {
    "python": {
     "delete_cmd_postfix": "",
     "delete_cmd_prefix": "del ",
     "library": "var_list.py",
     "varRefreshCmd": "print(var_dic_list())"
    },
    "r": {
     "delete_cmd_postfix": ") ",
     "delete_cmd_prefix": "rm(",
     "library": "var_list.r",
     "varRefreshCmd": "cat(var_dic_list()) "
    }
   },
   "types_to_exclude": [
    "module",
    "function",
    "builtin_function_or_method",
    "instance",
    "_Feature"
   ],
   "window_display": false
  }
 },
 "nbformat": 4,
 "nbformat_minor": 5
}
