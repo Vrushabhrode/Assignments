{
 "cells": [
  {
   "cell_type": "markdown",
   "id": "10c45f07",
   "metadata": {},
   "source": [
    "###  Que 5 "
   ]
  },
  {
   "cell_type": "markdown",
   "id": "64f3672d",
   "metadata": {},
   "source": [
    "##### Consider a company that has two different divisions. The annual profits from the two divisions are independent and have distributions Profit1 ~ N(5, 32) and Profit2 ~ N(7, 42) respectively. Both the profits are in  Million. Answer the following questions about the total profit of the company in Rupees. Assume that 1 = Rs. 45"
   ]
  },
  {
   "cell_type": "markdown",
   "id": "da37e99e",
   "metadata": {},
   "source": [
    "#### A.\tSpecify a Rupee range (centered on the mean) such that it contains 95% probability for the annual profit of the company.\n",
    "### Ans:  Total profit is Profit1 + profit2 = N(5+7,32+42)= N(12,72)\n"
   ]
  },
  {
   "cell_type": "code",
   "execution_count": 15,
   "id": "987b368a",
   "metadata": {},
   "outputs": [],
   "source": [
    "from scipy import stats"
   ]
  },
  {
   "cell_type": "code",
   "execution_count": 16,
   "id": "d695aa06",
   "metadata": {
    "scrolled": true
   },
   "outputs": [
    {
     "data": {
      "text/plain": [
       "(-1.7197478917803792, 25.71974789178038)"
      ]
     },
     "execution_count": 16,
     "metadata": {},
     "output_type": "execute_result"
    }
   ],
   "source": [
    "stats.norm.interval(0.95,12,7)"
   ]
  },
  {
   "cell_type": "markdown",
   "id": "33a6320f",
   "metadata": {},
   "source": [
    "-------"
   ]
  },
  {
   "cell_type": "markdown",
   "id": "2f446b70",
   "metadata": {},
   "source": [
    "#### B.\tSpecify the 5th percentile of profit (in Rupees) for the company\n",
    "### Ans: Hence  the 5th percentile of Profit(in Rupees) is = 23.4"
   ]
  },
  {
   "cell_type": "code",
   "execution_count": 17,
   "id": "e2f0d81f",
   "metadata": {},
   "outputs": [
    {
     "data": {
      "text/plain": [
       "-1.6448536269514729"
      ]
     },
     "execution_count": 17,
     "metadata": {},
     "output_type": "execute_result"
    }
   ],
   "source": [
    "stats.norm.ppf(0.05)"
   ]
  },
  {
   "cell_type": "code",
   "execution_count": 18,
   "id": "61c6cce9",
   "metadata": {},
   "outputs": [
    {
     "data": {
      "text/plain": [
       "0.5200000000000014"
      ]
     },
     "execution_count": 18,
     "metadata": {},
     "output_type": "execute_result"
    }
   ],
   "source": [
    "# z=x-MU / sigma\n",
    "x=(-1.64*7)+12\n",
    "x"
   ]
  },
  {
   "cell_type": "code",
   "execution_count": 19,
   "id": "47d91633",
   "metadata": {},
   "outputs": [
    {
     "data": {
      "text/plain": [
       "0.05"
      ]
     },
     "execution_count": 19,
     "metadata": {},
     "output_type": "execute_result"
    }
   ],
   "source": [
    "stats.norm.cdf(0.52,12,7).round(2)"
   ]
  },
  {
   "cell_type": "code",
   "execution_count": 20,
   "id": "44657748",
   "metadata": {
    "scrolled": true
   },
   "outputs": [
    {
     "data": {
      "text/plain": [
       "23.400000000000002"
      ]
     },
     "execution_count": 20,
     "metadata": {},
     "output_type": "execute_result"
    }
   ],
   "source": [
    "0.52*45"
   ]
  },
  {
   "cell_type": "markdown",
   "id": "778df3ff",
   "metadata": {},
   "source": [
    "-------"
   ]
  },
  {
   "cell_type": "markdown",
   "id": "092320fa",
   "metadata": {},
   "source": [
    "##### C.\tWhich of the two divisions has a larger probability of making a loss in a given year?\n",
    "### Ans:There is less loss difference but still company1 is having more probability of making a loss\n"
   ]
  },
  {
   "cell_type": "code",
   "execution_count": 22,
   "id": "ed3d1116",
   "metadata": {
    "scrolled": true
   },
   "outputs": [
    {
     "data": {
      "text/plain": [
       "0.0477903522728147"
      ]
     },
     "execution_count": 22,
     "metadata": {},
     "output_type": "execute_result"
    }
   ],
   "source": [
    "stats.norm.cdf(0,5,3)"
   ]
  },
  {
   "cell_type": "markdown",
   "id": "31d6da31",
   "metadata": {},
   "source": [
    "-----"
   ]
  },
  {
   "cell_type": "code",
   "execution_count": null,
   "id": "c1056033",
   "metadata": {},
   "outputs": [],
   "source": []
  }
 ],
 "metadata": {
  "kernelspec": {
   "display_name": "Python 3",
   "language": "python",
   "name": "python3"
  },
  "language_info": {
   "codemirror_mode": {
    "name": "ipython",
    "version": 3
   },
   "file_extension": ".py",
   "mimetype": "text/x-python",
   "name": "python",
   "nbconvert_exporter": "python",
   "pygments_lexer": "ipython3",
   "version": "3.8.8"
  },
  "varInspector": {
   "cols": {
    "lenName": 16,
    "lenType": 16,
    "lenVar": 40
   },
   "kernels_config": {
    "python": {
     "delete_cmd_postfix": "",
     "delete_cmd_prefix": "del ",
     "library": "var_list.py",
     "varRefreshCmd": "print(var_dic_list())"
    },
    "r": {
     "delete_cmd_postfix": ") ",
     "delete_cmd_prefix": "rm(",
     "library": "var_list.r",
     "varRefreshCmd": "cat(var_dic_list()) "
    }
   },
   "types_to_exclude": [
    "module",
    "function",
    "builtin_function_or_method",
    "instance",
    "_Feature"
   ],
   "window_display": false
  }
 },
 "nbformat": 4,
 "nbformat_minor": 5
}
